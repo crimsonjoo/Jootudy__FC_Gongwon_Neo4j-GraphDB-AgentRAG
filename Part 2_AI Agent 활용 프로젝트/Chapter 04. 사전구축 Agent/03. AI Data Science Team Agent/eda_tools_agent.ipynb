{
 "cells": [
  {
   "cell_type": "markdown",
   "metadata": {},
   "source": [
    "**Part 2. AI Agent 활용 프로젝트**\n",
    "\n",
    "- Chapter 04. 사전구축 Agent\n",
    "\n",
    "    - **📒[실습]** Clip 03. AI Data Science Team Agent"
   ]
  },
  {
   "cell_type": "markdown",
   "metadata": {},
   "source": [
    "# EDA Tools Agent\n",
    "\n",
    "EDA(Exploratory Data Analysis)를 위한 에이전트\n",
    "\n",
    "- Missing Data with `missingno`\n",
    "- EDA Reporting with `sweetviz`\n",
    "- Correlation Analysis with `pytimetk` correlation funnel\n",
    "- And more!\n"
   ]
  },
  {
   "cell_type": "code",
   "execution_count": 1,
   "metadata": {},
   "outputs": [
    {
     "data": {
      "text/html": [
       "<div>\n",
       "<style scoped>\n",
       "    .dataframe tbody tr th:only-of-type {\n",
       "        vertical-align: middle;\n",
       "    }\n",
       "\n",
       "    .dataframe tbody tr th {\n",
       "        vertical-align: top;\n",
       "    }\n",
       "\n",
       "    .dataframe thead th {\n",
       "        text-align: right;\n",
       "    }\n",
       "</style>\n",
       "<table border=\"1\" class=\"dataframe\">\n",
       "  <thead>\n",
       "    <tr style=\"text-align: right;\">\n",
       "      <th></th>\n",
       "      <th>PassengerId</th>\n",
       "      <th>Survived</th>\n",
       "      <th>Pclass</th>\n",
       "      <th>Name</th>\n",
       "      <th>Sex</th>\n",
       "      <th>Age</th>\n",
       "      <th>SibSp</th>\n",
       "      <th>Parch</th>\n",
       "      <th>Ticket</th>\n",
       "      <th>Fare</th>\n",
       "      <th>Cabin</th>\n",
       "      <th>Embarked</th>\n",
       "    </tr>\n",
       "  </thead>\n",
       "  <tbody>\n",
       "    <tr>\n",
       "      <th>0</th>\n",
       "      <td>1</td>\n",
       "      <td>0</td>\n",
       "      <td>3</td>\n",
       "      <td>Braund, Mr. Owen Harris</td>\n",
       "      <td>male</td>\n",
       "      <td>22.0</td>\n",
       "      <td>1</td>\n",
       "      <td>0</td>\n",
       "      <td>A/5 21171</td>\n",
       "      <td>7.2500</td>\n",
       "      <td>NaN</td>\n",
       "      <td>S</td>\n",
       "    </tr>\n",
       "    <tr>\n",
       "      <th>1</th>\n",
       "      <td>2</td>\n",
       "      <td>1</td>\n",
       "      <td>1</td>\n",
       "      <td>Cumings, Mrs. John Bradley (Florence Briggs Th...</td>\n",
       "      <td>female</td>\n",
       "      <td>38.0</td>\n",
       "      <td>1</td>\n",
       "      <td>0</td>\n",
       "      <td>PC 17599</td>\n",
       "      <td>71.2833</td>\n",
       "      <td>C85</td>\n",
       "      <td>C</td>\n",
       "    </tr>\n",
       "    <tr>\n",
       "      <th>2</th>\n",
       "      <td>3</td>\n",
       "      <td>1</td>\n",
       "      <td>3</td>\n",
       "      <td>Heikkinen, Miss. Laina</td>\n",
       "      <td>female</td>\n",
       "      <td>26.0</td>\n",
       "      <td>0</td>\n",
       "      <td>0</td>\n",
       "      <td>STON/O2. 3101282</td>\n",
       "      <td>7.9250</td>\n",
       "      <td>NaN</td>\n",
       "      <td>S</td>\n",
       "    </tr>\n",
       "    <tr>\n",
       "      <th>3</th>\n",
       "      <td>4</td>\n",
       "      <td>1</td>\n",
       "      <td>1</td>\n",
       "      <td>Futrelle, Mrs. Jacques Heath (Lily May Peel)</td>\n",
       "      <td>female</td>\n",
       "      <td>35.0</td>\n",
       "      <td>1</td>\n",
       "      <td>0</td>\n",
       "      <td>113803</td>\n",
       "      <td>53.1000</td>\n",
       "      <td>C123</td>\n",
       "      <td>S</td>\n",
       "    </tr>\n",
       "    <tr>\n",
       "      <th>4</th>\n",
       "      <td>5</td>\n",
       "      <td>0</td>\n",
       "      <td>3</td>\n",
       "      <td>Allen, Mr. William Henry</td>\n",
       "      <td>male</td>\n",
       "      <td>35.0</td>\n",
       "      <td>0</td>\n",
       "      <td>0</td>\n",
       "      <td>373450</td>\n",
       "      <td>8.0500</td>\n",
       "      <td>NaN</td>\n",
       "      <td>S</td>\n",
       "    </tr>\n",
       "    <tr>\n",
       "      <th>...</th>\n",
       "      <td>...</td>\n",
       "      <td>...</td>\n",
       "      <td>...</td>\n",
       "      <td>...</td>\n",
       "      <td>...</td>\n",
       "      <td>...</td>\n",
       "      <td>...</td>\n",
       "      <td>...</td>\n",
       "      <td>...</td>\n",
       "      <td>...</td>\n",
       "      <td>...</td>\n",
       "      <td>...</td>\n",
       "    </tr>\n",
       "    <tr>\n",
       "      <th>886</th>\n",
       "      <td>887</td>\n",
       "      <td>0</td>\n",
       "      <td>2</td>\n",
       "      <td>Montvila, Rev. Juozas</td>\n",
       "      <td>male</td>\n",
       "      <td>27.0</td>\n",
       "      <td>0</td>\n",
       "      <td>0</td>\n",
       "      <td>211536</td>\n",
       "      <td>13.0000</td>\n",
       "      <td>NaN</td>\n",
       "      <td>S</td>\n",
       "    </tr>\n",
       "    <tr>\n",
       "      <th>887</th>\n",
       "      <td>888</td>\n",
       "      <td>1</td>\n",
       "      <td>1</td>\n",
       "      <td>Graham, Miss. Margaret Edith</td>\n",
       "      <td>female</td>\n",
       "      <td>19.0</td>\n",
       "      <td>0</td>\n",
       "      <td>0</td>\n",
       "      <td>112053</td>\n",
       "      <td>30.0000</td>\n",
       "      <td>B42</td>\n",
       "      <td>S</td>\n",
       "    </tr>\n",
       "    <tr>\n",
       "      <th>888</th>\n",
       "      <td>889</td>\n",
       "      <td>0</td>\n",
       "      <td>3</td>\n",
       "      <td>Johnston, Miss. Catherine Helen \"Carrie\"</td>\n",
       "      <td>female</td>\n",
       "      <td>NaN</td>\n",
       "      <td>1</td>\n",
       "      <td>2</td>\n",
       "      <td>W./C. 6607</td>\n",
       "      <td>23.4500</td>\n",
       "      <td>NaN</td>\n",
       "      <td>S</td>\n",
       "    </tr>\n",
       "    <tr>\n",
       "      <th>889</th>\n",
       "      <td>890</td>\n",
       "      <td>1</td>\n",
       "      <td>1</td>\n",
       "      <td>Behr, Mr. Karl Howell</td>\n",
       "      <td>male</td>\n",
       "      <td>26.0</td>\n",
       "      <td>0</td>\n",
       "      <td>0</td>\n",
       "      <td>111369</td>\n",
       "      <td>30.0000</td>\n",
       "      <td>C148</td>\n",
       "      <td>C</td>\n",
       "    </tr>\n",
       "    <tr>\n",
       "      <th>890</th>\n",
       "      <td>891</td>\n",
       "      <td>0</td>\n",
       "      <td>3</td>\n",
       "      <td>Dooley, Mr. Patrick</td>\n",
       "      <td>male</td>\n",
       "      <td>32.0</td>\n",
       "      <td>0</td>\n",
       "      <td>0</td>\n",
       "      <td>370376</td>\n",
       "      <td>7.7500</td>\n",
       "      <td>NaN</td>\n",
       "      <td>Q</td>\n",
       "    </tr>\n",
       "  </tbody>\n",
       "</table>\n",
       "<p>891 rows × 12 columns</p>\n",
       "</div>"
      ],
      "text/plain": [
       "     PassengerId  Survived  Pclass  \\\n",
       "0              1         0       3   \n",
       "1              2         1       1   \n",
       "2              3         1       3   \n",
       "3              4         1       1   \n",
       "4              5         0       3   \n",
       "..           ...       ...     ...   \n",
       "886          887         0       2   \n",
       "887          888         1       1   \n",
       "888          889         0       3   \n",
       "889          890         1       1   \n",
       "890          891         0       3   \n",
       "\n",
       "                                                  Name     Sex   Age  SibSp  \\\n",
       "0                              Braund, Mr. Owen Harris    male  22.0      1   \n",
       "1    Cumings, Mrs. John Bradley (Florence Briggs Th...  female  38.0      1   \n",
       "2                               Heikkinen, Miss. Laina  female  26.0      0   \n",
       "3         Futrelle, Mrs. Jacques Heath (Lily May Peel)  female  35.0      1   \n",
       "4                             Allen, Mr. William Henry    male  35.0      0   \n",
       "..                                                 ...     ...   ...    ...   \n",
       "886                              Montvila, Rev. Juozas    male  27.0      0   \n",
       "887                       Graham, Miss. Margaret Edith  female  19.0      0   \n",
       "888           Johnston, Miss. Catherine Helen \"Carrie\"  female   NaN      1   \n",
       "889                              Behr, Mr. Karl Howell    male  26.0      0   \n",
       "890                                Dooley, Mr. Patrick    male  32.0      0   \n",
       "\n",
       "     Parch            Ticket     Fare Cabin Embarked  \n",
       "0        0         A/5 21171   7.2500   NaN        S  \n",
       "1        0          PC 17599  71.2833   C85        C  \n",
       "2        0  STON/O2. 3101282   7.9250   NaN        S  \n",
       "3        0            113803  53.1000  C123        S  \n",
       "4        0            373450   8.0500   NaN        S  \n",
       "..     ...               ...      ...   ...      ...  \n",
       "886      0            211536  13.0000   NaN        S  \n",
       "887      0            112053  30.0000   B42        S  \n",
       "888      2        W./C. 6607  23.4500   NaN        S  \n",
       "889      0            111369  30.0000  C148        C  \n",
       "890      0            370376   7.7500   NaN        Q  \n",
       "\n",
       "[891 rows x 12 columns]"
      ]
     },
     "execution_count": 1,
     "metadata": {},
     "output_type": "execute_result"
    }
   ],
   "source": [
    "import pandas as pd\n",
    "\n",
    "df = pd.read_csv(\"data/titanic.csv\")\n",
    "df"
   ]
  },
  {
   "cell_type": "code",
   "execution_count": 2,
   "metadata": {},
   "outputs": [],
   "source": [
    "import getpass\n",
    "import os\n",
    "\n",
    "\n",
    "def _set_env(var: str):\n",
    "    if not os.environ.get(var):\n",
    "        os.environ[var] = getpass.getpass(f\"{var}: \")\n",
    "\n",
    "\n",
    "_set_env(\"OPENAI_API_KEY\")"
   ]
  },
  {
   "cell_type": "code",
   "execution_count": 3,
   "metadata": {},
   "outputs": [
    {
     "data": {
      "text/plain": [
       "ChatOpenAI(client=<openai.resources.chat.completions.completions.Completions object at 0x0000019AA72F0150>, async_client=<openai.resources.chat.completions.completions.AsyncCompletions object at 0x0000019AA75F1550>, root_client=<openai.OpenAI object at 0x0000019AA7377E10>, root_async_client=<openai.AsyncOpenAI object at 0x0000019AA75E4550>, model_name='gpt-4o-mini', model_kwargs={}, openai_api_key=SecretStr('**********'))"
      ]
     },
     "execution_count": 3,
     "metadata": {},
     "output_type": "execute_result"
    }
   ],
   "source": [
    "from langchain_openai import ChatOpenAI\n",
    "\n",
    "llm = ChatOpenAI(model=\"gpt-4o-mini\")\n",
    "llm"
   ]
  },
  {
   "cell_type": "markdown",
   "metadata": {},
   "source": [
    "### Agent 생성하기"
   ]
  },
  {
   "cell_type": "code",
   "execution_count": 4,
   "metadata": {},
   "outputs": [],
   "source": [
    "from ai_data_science_team.ds_agents import EDAToolsAgent\n",
    "from ai_data_science_team.utils.matplotlib import matplotlib_from_base64\n",
    "from ai_data_science_team.utils.plotly import plotly_from_dict\n",
    "from ai_data_science_team.utils.html import open_html_file_in_browser"
   ]
  },
  {
   "cell_type": "code",
   "execution_count": 5,
   "metadata": {},
   "outputs": [
    {
     "data": {
      "image/png": "[encoded data removed]",
      "text/plain": [
       "<ai_data_science_team.ds_agents.eda_tools_agent.EDAToolsAgent object at 0x0000019AA9C551D0>"
      ]
     },
     "execution_count": 5,
     "metadata": {},
     "output_type": "execute_result"
    }
   ],
   "source": [
    "exploratory_agent = EDAToolsAgent(\n",
    "    llm, \n",
    "    invoke_react_agent_kwargs={\"recursion_limit\": 10},\n",
    ")\n",
    "exploratory_agent"
   ]
  },
  {
   "cell_type": "code",
   "execution_count": 6,
   "metadata": {},
   "outputs": [
    {
     "name": "stdout",
     "output_type": "stream",
     "text": [
      "---EXPLORATORY DATA ANALYST AGENT----\n",
      "    * RUN REACT TOOL-CALLING AGENT FOR EDA\n",
      "    * POST-PROCESSING EDA RESULTS\n"
     ]
    },
    {
     "data": {
      "text/markdown": [
       "Here's a table of the available tools:\n",
       "\n",
       "| Tool Name                  | Description                                                                                                   |\n",
       "|---------------------------|---------------------------------------------------------------------------------------------------------------|\n",
       "| explain_data              | Provides an extensive, narrative summary of a DataFrame including its shape, column types, and samples.     |\n",
       "| describe_dataset          | Computes and returns summary statistics for the dataset using pandas' describe() method.                     |\n",
       "| visualize_missing         | Missing value analysis using the missingno library, generating matrix plots, bar plots, and heatmaps.       |\n",
       "| generate_correlation_funnel| Correlation analysis using the correlation funnel method, binarizing data and computing correlation with a target. |\n",
       "| generate_sweetviz_report  | Creates an Exploratory Data Analysis (EDA) report using the Sweetviz library.                               |\n",
       "| generate_dtale_report     | Creates an interactive data exploration report using the dtale library.                                     |\n",
       "\n",
       "If you need further details on any specific tool, feel free to ask!"
      ],
      "text/plain": [
       "<IPython.core.display.Markdown object>"
      ]
     },
     "execution_count": 6,
     "metadata": {},
     "output_type": "execute_result"
    }
   ],
   "source": [
    "exploratory_agent.invoke_agent(\"What tools do you have access to? Return a table.\")\n",
    "\n",
    "exploratory_agent.get_ai_message(markdown=True)"
   ]
  },
  {
   "cell_type": "code",
   "execution_count": 7,
   "metadata": {},
   "outputs": [
    {
     "name": "stdout",
     "output_type": "stream",
     "text": [
      "---EXPLORATORY DATA ANALYST AGENT----\n",
      "    * RUN REACT TOOL-CALLING AGENT FOR EDA\n",
      "    * POST-PROCESSING EDA RESULTS\n"
     ]
    },
    {
     "data": {
      "text/markdown": [
       "The correlation funnel tool is designed to analyze the correlation between various features in a dataset and a specific target variable. This tool uses a method of binarization to assess how well different features correlate with the specified target, making it particularly useful in exploratory data analysis (EDA).\n",
       "\n",
       "### Key Parameters:\n",
       "1. **target**: This is the main variable of interest that you want to analyze correlation against. The tool will look for columns that start with this target name followed by a double underscore (e.g., `target__Yes`, `target__No`).\n",
       "\n",
       "2. **target_bin_index**: This parameter allows you to specify which level of the target variable to analyze. You can provide an integer index (e.g., `0` for the first group) or a string that represents a specific group (e.g., `\"Yes\"`).\n",
       "\n",
       "3. **corr_method**: This defines the correlation method to be used. Options include:\n",
       "   - `'pearson'`: Measures linear correlation.\n",
       "   - `'kendall'`: A non-parametric measure of correlation.\n",
       "   - `'spearman'`: Assess the relationship between two variables without assuming a linear relationship.\n",
       "\n",
       "4. **n_bins**: This parameter determines the number of bins to use for binarizing continuous variables.\n",
       "\n",
       "5. **thresh_infreq**: This represents the threshold for infrequent levels. If the proportion of a level is below this threshold, it can be grouped into a category such as '-OTHER'.\n",
       "\n",
       "6. **name_infreq**: This is the label given to infrequent levels when they are combined.\n",
       "\n",
       "### Use Cases:\n",
       "- Identifying which features have strong correlations with a target variable.\n",
       "- Understanding how various features impact target outcomes in predictive modeling.\n",
       "- Binarizing categorical variables for better analysis and interpretation.\n",
       "\n",
       "### Outputs:\n",
       "The tool typically returns correlation values or visualizations (depending on its implementation) that show the relationship strength and direction between features and the target variable.\n",
       "\n",
       "This functionality can be particularly insightful for businesses looking to enhance their decision-making processes or improve their predictive models based on historical data."
      ],
      "text/plain": [
       "<IPython.core.display.Markdown object>"
      ]
     },
     "execution_count": 7,
     "metadata": {},
     "output_type": "execute_result"
    }
   ],
   "source": [
    "exploratory_agent.invoke_agent(\"Give me information on the correlation funnel tool.\")\n",
    "\n",
    "exploratory_agent.get_ai_message(markdown=True)"
   ]
  },
  {
   "cell_type": "markdown",
   "metadata": {},
   "source": [
    "#### Example 1: Explain data(`explain_data`) tool"
   ]
  },
  {
   "cell_type": "code",
   "execution_count": 8,
   "metadata": {},
   "outputs": [
    {
     "name": "stdout",
     "output_type": "stream",
     "text": [
      "---EXPLORATORY DATA ANALYST AGENT----\n",
      "    * RUN REACT TOOL-CALLING AGENT FOR EDA\n",
      "    * Tool: explain_data\n",
      "    * POST-PROCESSING EDA RESULTS\n"
     ]
    },
    {
     "data": {
      "text/markdown": [
       "The first 5 rows of the data are as follows:\n",
       "\n",
       "| PassengerId | Survived | Pclass | Name                                                        | Sex    | Age  | SibSp | Parch | Ticket          | Fare     | Cabin | Embarked |\n",
       "|-------------|----------|--------|-------------------------------------------------------------|--------|------|-------|-------|------------------|----------|-------|----------|\n",
       "| 1           | 0        | 3      | Braund, Mr. Owen Harris                                     | male   | 22.0 | 1     | 0     | A/5 21171        | 7.2500   | NaN   | S        |\n",
       "| 2           | 1        | 1      | Cumings, Mrs. John Bradley (Florence Briggs Thayer)       | female | 38.0 | 1     | 0     | PC 17599         | 71.2833  | C85   | C        |\n",
       "| 3           | 1        | 3      | Heikkinen, Miss. Laina                                      | female | 26.0 | 0     | 0     | STON/O2. 3101282 | 7.9250   | NaN   | S        |\n",
       "| 4           | 1        | 1      | Futrelle, Mrs. Jacques Heath (Lily May Peel)               | female | 35.0 | 1     | 0     | 113803           | 53.1000  | C123  | S        |\n",
       "| 5           | 0        | 3      | Allen, Mr. William Henry                                    | male   | 35.0 | 0     | 0     | 373450           | 8.0500   | NaN   | S        |\n",
       "\n",
       "### Summary of Additional Information\n",
       "- **Total Rows**: 891\n",
       "- **Total Columns**: 12\n",
       "- **Column Types**: Includes integers and floating points for numeric values, and objects for strings (e.g., names, ticket information).\n",
       "- **Missing Values**: Notably, the 'Cabin' column has 77.10% missing values, and 'Age' has 19.87% missing values."
      ],
      "text/plain": [
       "<IPython.core.display.Markdown object>"
      ]
     },
     "execution_count": 8,
     "metadata": {},
     "output_type": "execute_result"
    }
   ],
   "source": [
    "exploratory_agent.invoke_agent(\n",
    "    user_instructions=\"What are the first 5 rows of the data?\",\n",
    "    data_raw=df,\n",
    ")\n",
    "exploratory_agent.get_ai_message(markdown=True)"
   ]
  },
  {
   "cell_type": "markdown",
   "metadata": {},
   "source": [
    "#### Example 2: Describe data set(`describe_dataset`) tool"
   ]
  },
  {
   "cell_type": "code",
   "execution_count": 9,
   "metadata": {},
   "outputs": [
    {
     "name": "stdout",
     "output_type": "stream",
     "text": [
      "---EXPLORATORY DATA ANALYST AGENT----\n",
      "    * RUN REACT TOOL-CALLING AGENT FOR EDA\n",
      "    * Tool: describe_dataset\n",
      "    * POST-PROCESSING EDA RESULTS\n"
     ]
    },
    {
     "data": {
      "text/markdown": [
       "Summary statistics for the dataset have been computed. If you need details such as count, mean, standard deviation, min, quartiles, and max for specific columns, please let me know!"
      ],
      "text/plain": [
       "<IPython.core.display.Markdown object>"
      ]
     },
     "execution_count": 9,
     "metadata": {},
     "output_type": "execute_result"
    }
   ],
   "source": [
    "exploratory_agent.invoke_agent(\n",
    "    user_instructions=\"Describe the dataset.\",\n",
    "    data_raw=df,\n",
    ")\n",
    "exploratory_agent.get_ai_message(markdown=True)"
   ]
  },
  {
   "cell_type": "code",
   "execution_count": 10,
   "metadata": {},
   "outputs": [
    {
     "data": {
      "text/plain": [
       "dict_keys(['describe_df'])"
      ]
     },
     "execution_count": 10,
     "metadata": {},
     "output_type": "execute_result"
    }
   ],
   "source": [
    "artifacts = exploratory_agent.get_artifacts()\n",
    "\n",
    "artifacts.keys()"
   ]
  },
  {
   "cell_type": "code",
   "execution_count": 11,
   "metadata": {},
   "outputs": [
    {
     "data": {
      "text/html": [
       "<div>\n",
       "<style scoped>\n",
       "    .dataframe tbody tr th:only-of-type {\n",
       "        vertical-align: middle;\n",
       "    }\n",
       "\n",
       "    .dataframe tbody tr th {\n",
       "        vertical-align: top;\n",
       "    }\n",
       "\n",
       "    .dataframe thead th {\n",
       "        text-align: right;\n",
       "    }\n",
       "</style>\n",
       "<table border=\"1\" class=\"dataframe\">\n",
       "  <thead>\n",
       "    <tr style=\"text-align: right;\">\n",
       "      <th></th>\n",
       "      <th>PassengerId</th>\n",
       "      <th>Survived</th>\n",
       "      <th>Pclass</th>\n",
       "      <th>Name</th>\n",
       "      <th>Sex</th>\n",
       "      <th>Age</th>\n",
       "      <th>SibSp</th>\n",
       "      <th>Parch</th>\n",
       "      <th>Ticket</th>\n",
       "      <th>Fare</th>\n",
       "      <th>Cabin</th>\n",
       "      <th>Embarked</th>\n",
       "    </tr>\n",
       "  </thead>\n",
       "  <tbody>\n",
       "    <tr>\n",
       "      <th>count</th>\n",
       "      <td>891.000000</td>\n",
       "      <td>891.000000</td>\n",
       "      <td>891.000000</td>\n",
       "      <td>891</td>\n",
       "      <td>891</td>\n",
       "      <td>714.000000</td>\n",
       "      <td>891.000000</td>\n",
       "      <td>891.000000</td>\n",
       "      <td>891</td>\n",
       "      <td>891.000000</td>\n",
       "      <td>204</td>\n",
       "      <td>889</td>\n",
       "    </tr>\n",
       "    <tr>\n",
       "      <th>unique</th>\n",
       "      <td>NaN</td>\n",
       "      <td>NaN</td>\n",
       "      <td>NaN</td>\n",
       "      <td>891</td>\n",
       "      <td>2</td>\n",
       "      <td>NaN</td>\n",
       "      <td>NaN</td>\n",
       "      <td>NaN</td>\n",
       "      <td>681</td>\n",
       "      <td>NaN</td>\n",
       "      <td>147</td>\n",
       "      <td>3</td>\n",
       "    </tr>\n",
       "    <tr>\n",
       "      <th>top</th>\n",
       "      <td>NaN</td>\n",
       "      <td>NaN</td>\n",
       "      <td>NaN</td>\n",
       "      <td>Braund, Mr. Owen Harris</td>\n",
       "      <td>male</td>\n",
       "      <td>NaN</td>\n",
       "      <td>NaN</td>\n",
       "      <td>NaN</td>\n",
       "      <td>347082</td>\n",
       "      <td>NaN</td>\n",
       "      <td>B96 B98</td>\n",
       "      <td>S</td>\n",
       "    </tr>\n",
       "    <tr>\n",
       "      <th>freq</th>\n",
       "      <td>NaN</td>\n",
       "      <td>NaN</td>\n",
       "      <td>NaN</td>\n",
       "      <td>1</td>\n",
       "      <td>577</td>\n",
       "      <td>NaN</td>\n",
       "      <td>NaN</td>\n",
       "      <td>NaN</td>\n",
       "      <td>7</td>\n",
       "      <td>NaN</td>\n",
       "      <td>4</td>\n",
       "      <td>644</td>\n",
       "    </tr>\n",
       "    <tr>\n",
       "      <th>mean</th>\n",
       "      <td>446.000000</td>\n",
       "      <td>0.383838</td>\n",
       "      <td>2.308642</td>\n",
       "      <td>NaN</td>\n",
       "      <td>NaN</td>\n",
       "      <td>29.699118</td>\n",
       "      <td>0.523008</td>\n",
       "      <td>0.381594</td>\n",
       "      <td>NaN</td>\n",
       "      <td>32.204208</td>\n",
       "      <td>NaN</td>\n",
       "      <td>NaN</td>\n",
       "    </tr>\n",
       "    <tr>\n",
       "      <th>std</th>\n",
       "      <td>257.353842</td>\n",
       "      <td>0.486592</td>\n",
       "      <td>0.836071</td>\n",
       "      <td>NaN</td>\n",
       "      <td>NaN</td>\n",
       "      <td>14.526497</td>\n",
       "      <td>1.102743</td>\n",
       "      <td>0.806057</td>\n",
       "      <td>NaN</td>\n",
       "      <td>49.693429</td>\n",
       "      <td>NaN</td>\n",
       "      <td>NaN</td>\n",
       "    </tr>\n",
       "    <tr>\n",
       "      <th>min</th>\n",
       "      <td>1.000000</td>\n",
       "      <td>0.000000</td>\n",
       "      <td>1.000000</td>\n",
       "      <td>NaN</td>\n",
       "      <td>NaN</td>\n",
       "      <td>0.420000</td>\n",
       "      <td>0.000000</td>\n",
       "      <td>0.000000</td>\n",
       "      <td>NaN</td>\n",
       "      <td>0.000000</td>\n",
       "      <td>NaN</td>\n",
       "      <td>NaN</td>\n",
       "    </tr>\n",
       "    <tr>\n",
       "      <th>25%</th>\n",
       "      <td>223.500000</td>\n",
       "      <td>0.000000</td>\n",
       "      <td>2.000000</td>\n",
       "      <td>NaN</td>\n",
       "      <td>NaN</td>\n",
       "      <td>20.125000</td>\n",
       "      <td>0.000000</td>\n",
       "      <td>0.000000</td>\n",
       "      <td>NaN</td>\n",
       "      <td>7.910400</td>\n",
       "      <td>NaN</td>\n",
       "      <td>NaN</td>\n",
       "    </tr>\n",
       "    <tr>\n",
       "      <th>50%</th>\n",
       "      <td>446.000000</td>\n",
       "      <td>0.000000</td>\n",
       "      <td>3.000000</td>\n",
       "      <td>NaN</td>\n",
       "      <td>NaN</td>\n",
       "      <td>28.000000</td>\n",
       "      <td>0.000000</td>\n",
       "      <td>0.000000</td>\n",
       "      <td>NaN</td>\n",
       "      <td>14.454200</td>\n",
       "      <td>NaN</td>\n",
       "      <td>NaN</td>\n",
       "    </tr>\n",
       "    <tr>\n",
       "      <th>75%</th>\n",
       "      <td>668.500000</td>\n",
       "      <td>1.000000</td>\n",
       "      <td>3.000000</td>\n",
       "      <td>NaN</td>\n",
       "      <td>NaN</td>\n",
       "      <td>38.000000</td>\n",
       "      <td>1.000000</td>\n",
       "      <td>0.000000</td>\n",
       "      <td>NaN</td>\n",
       "      <td>31.000000</td>\n",
       "      <td>NaN</td>\n",
       "      <td>NaN</td>\n",
       "    </tr>\n",
       "    <tr>\n",
       "      <th>max</th>\n",
       "      <td>891.000000</td>\n",
       "      <td>1.000000</td>\n",
       "      <td>3.000000</td>\n",
       "      <td>NaN</td>\n",
       "      <td>NaN</td>\n",
       "      <td>80.000000</td>\n",
       "      <td>8.000000</td>\n",
       "      <td>6.000000</td>\n",
       "      <td>NaN</td>\n",
       "      <td>512.329200</td>\n",
       "      <td>NaN</td>\n",
       "      <td>NaN</td>\n",
       "    </tr>\n",
       "  </tbody>\n",
       "</table>\n",
       "</div>"
      ],
      "text/plain": [
       "        PassengerId    Survived      Pclass                     Name   Sex  \\\n",
       "count    891.000000  891.000000  891.000000                      891   891   \n",
       "unique          NaN         NaN         NaN                      891     2   \n",
       "top             NaN         NaN         NaN  Braund, Mr. Owen Harris  male   \n",
       "freq            NaN         NaN         NaN                        1   577   \n",
       "mean     446.000000    0.383838    2.308642                      NaN   NaN   \n",
       "std      257.353842    0.486592    0.836071                      NaN   NaN   \n",
       "min        1.000000    0.000000    1.000000                      NaN   NaN   \n",
       "25%      223.500000    0.000000    2.000000                      NaN   NaN   \n",
       "50%      446.000000    0.000000    3.000000                      NaN   NaN   \n",
       "75%      668.500000    1.000000    3.000000                      NaN   NaN   \n",
       "max      891.000000    1.000000    3.000000                      NaN   NaN   \n",
       "\n",
       "               Age       SibSp       Parch  Ticket        Fare    Cabin  \\\n",
       "count   714.000000  891.000000  891.000000     891  891.000000      204   \n",
       "unique         NaN         NaN         NaN     681         NaN      147   \n",
       "top            NaN         NaN         NaN  347082         NaN  B96 B98   \n",
       "freq           NaN         NaN         NaN       7         NaN        4   \n",
       "mean     29.699118    0.523008    0.381594     NaN   32.204208      NaN   \n",
       "std      14.526497    1.102743    0.806057     NaN   49.693429      NaN   \n",
       "min       0.420000    0.000000    0.000000     NaN    0.000000      NaN   \n",
       "25%      20.125000    0.000000    0.000000     NaN    7.910400      NaN   \n",
       "50%      28.000000    0.000000    0.000000     NaN   14.454200      NaN   \n",
       "75%      38.000000    1.000000    0.000000     NaN   31.000000      NaN   \n",
       "max      80.000000    8.000000    6.000000     NaN  512.329200      NaN   \n",
       "\n",
       "       Embarked  \n",
       "count       889  \n",
       "unique        3  \n",
       "top           S  \n",
       "freq        644  \n",
       "mean        NaN  \n",
       "std         NaN  \n",
       "min         NaN  \n",
       "25%         NaN  \n",
       "50%         NaN  \n",
       "75%         NaN  \n",
       "max         NaN  "
      ]
     },
     "execution_count": 11,
     "metadata": {},
     "output_type": "execute_result"
    }
   ],
   "source": [
    "pd.DataFrame(artifacts['describe_df'])"
   ]
  },
  {
   "cell_type": "markdown",
   "metadata": {},
   "source": [
    "#### Example 3: Missing data(`visualize_missing`) tool\n"
   ]
  },
  {
   "cell_type": "markdown",
   "metadata": {},
   "source": [
    "`pip install missingno`"
   ]
  },
  {
   "cell_type": "code",
   "execution_count": 12,
   "metadata": {},
   "outputs": [
    {
     "name": "stdout",
     "output_type": "stream",
     "text": [
      "---EXPLORATORY DATA ANALYST AGENT----\n",
      "    * RUN REACT TOOL-CALLING AGENT FOR EDA\n",
      "    * Tool: visualize_missing\n"
     ]
    },
    {
     "name": "stderr",
     "output_type": "stream",
     "text": [
      "c:\\Users\\pnylo\\OneDrive\\바탕 화면\\Workspace\\Langgraph_AIAgent_fastcampus\\.conda\\Lib\\site-packages\\ai_data_science_team\\tools\\eda.py:134: UserWarning: This figure includes Axes that are not compatible with tight_layout, so results might be incorrect.\n",
      "  plt.tight_layout()\n"
     ]
    },
    {
     "name": "stdout",
     "output_type": "stream",
     "text": [
      "    * POST-PROCESSING EDA RESULTS\n"
     ]
    },
    {
     "data": {
      "text/markdown": [
       "The missing data visualizations have been successfully generated, including a matrix plot, bar plot, and heatmap plot. If you need a specific analysis or further details on the missing data, please let me know!"
      ],
      "text/plain": [
       "<IPython.core.display.Markdown object>"
      ]
     },
     "execution_count": 12,
     "metadata": {},
     "output_type": "execute_result"
    },
    {
     "data": {
      "text/plain": [
       "<Figure size 800x600 with 0 Axes>"
      ]
     },
     "metadata": {},
     "output_type": "display_data"
    },
    {
     "data": {
      "text/plain": [
       "<Figure size 800x600 with 0 Axes>"
      ]
     },
     "metadata": {},
     "output_type": "display_data"
    }
   ],
   "source": [
    "exploratory_agent.invoke_agent(\n",
    "    user_instructions=\"Visualize missing data in the dataset using the visualize_missing tool.\",\n",
    "    data_raw=df,\n",
    ")\n",
    "\n",
    "exploratory_agent.get_ai_message(markdown=True)"
   ]
  },
  {
   "cell_type": "code",
   "execution_count": 13,
   "metadata": {},
   "outputs": [
    {
     "data": {
      "text/plain": [
       "dict_keys(['matrix_plot', 'bar_plot', 'heatmap_plot'])"
      ]
     },
     "execution_count": 13,
     "metadata": {},
     "output_type": "execute_result"
    }
   ],
   "source": [
    "exploratory_agent.get_artifacts().keys()"
   ]
  },
  {
   "cell_type": "code",
   "execution_count": 14,
   "metadata": {},
   "outputs": [
    {
     "data": {
      "image/png": "[encoded data removed]",
      "text/plain": [
       "<Figure size 800x600 with 1 Axes>"
      ]
     },
     "metadata": {},
     "output_type": "display_data"
    },
    {
     "data": {
      "text/plain": [
       "(<Figure size 800x600 with 1 Axes>, <Axes: >)"
      ]
     },
     "execution_count": 14,
     "metadata": {},
     "output_type": "execute_result"
    }
   ],
   "source": [
    "matplotlib_from_base64(\n",
    "    exploratory_agent.get_artifacts()['matrix_plot'],\n",
    ")\n"
   ]
  },
  {
   "cell_type": "code",
   "execution_count": 15,
   "metadata": {},
   "outputs": [
    {
     "data": {
      "image/png": "[encoded data removed]",
      "text/plain": [
       "<Figure size 800x600 with 1 Axes>"
      ]
     },
     "metadata": {},
     "output_type": "display_data"
    },
    {
     "data": {
      "text/plain": [
       "(<Figure size 800x600 with 1 Axes>, <Axes: >)"
      ]
     },
     "execution_count": 15,
     "metadata": {},
     "output_type": "execute_result"
    }
   ],
   "source": [
    "matplotlib_from_base64(\n",
    "    exploratory_agent.get_artifacts()['bar_plot'],\n",
    ")"
   ]
  },
  {
   "cell_type": "code",
   "execution_count": 16,
   "metadata": {},
   "outputs": [
    {
     "data": {
      "image/png": "[encoded data removed]",
      "text/plain": [
       "<Figure size 800x600 with 1 Axes>"
      ]
     },
     "metadata": {},
     "output_type": "display_data"
    },
    {
     "data": {
      "text/plain": [
       "(<Figure size 800x600 with 1 Axes>, <Axes: >)"
      ]
     },
     "execution_count": 16,
     "metadata": {},
     "output_type": "execute_result"
    }
   ],
   "source": [
    "matplotlib_from_base64(\n",
    "    exploratory_agent.get_artifacts()['heatmap_plot'],\n",
    ")"
   ]
  },
  {
   "cell_type": "code",
   "execution_count": null,
   "metadata": {},
   "outputs": [],
   "source": []
  },
  {
   "cell_type": "code",
   "execution_count": 17,
   "metadata": {},
   "outputs": [],
   "source": [
    "df = df.dropna(subset=['Age', 'Cabin', 'Embarked'])"
   ]
  },
  {
   "cell_type": "markdown",
   "metadata": {},
   "source": [
    "#### Example 4: Correlation Funnel(`generate_correlation_funnel`) Tool"
   ]
  },
  {
   "cell_type": "markdown",
   "metadata": {},
   "source": [
    "`pip install pytimetk`"
   ]
  },
  {
   "cell_type": "code",
   "execution_count": 18,
   "metadata": {},
   "outputs": [
    {
     "name": "stdout",
     "output_type": "stream",
     "text": [
      "---EXPLORATORY DATA ANALYST AGENT----\n",
      "    * RUN REACT TOOL-CALLING AGENT FOR EDA\n",
      "    * Tool: generate_correlation_funnel\n"
     ]
    },
    {
     "name": "stderr",
     "output_type": "stream",
     "text": [
      "c:\\Users\\pnylo\\OneDrive\\바탕 화면\\Workspace\\Langgraph_AIAgent_fastcampus\\.conda\\Lib\\site-packages\\plotnine\\ggplot.py:615: PlotnineWarning: Saving 7 x 6.0 in image.\n",
      "c:\\Users\\pnylo\\OneDrive\\바탕 화면\\Workspace\\Langgraph_AIAgent_fastcampus\\.conda\\Lib\\site-packages\\plotnine\\ggplot.py:616: PlotnineWarning: Filename: <_io.BytesIO object at 0x0000019ACB8C08B0>\n",
      "c:\\Users\\pnylo\\OneDrive\\바탕 화면\\Workspace\\Langgraph_AIAgent_fastcampus\\.conda\\Lib\\site-packages\\plotnine\\layer.py:364: PlotnineWarning: geom_point : Removed 1 rows containing missing values.\n",
      "c:\\Users\\pnylo\\OneDrive\\바탕 화면\\Workspace\\Langgraph_AIAgent_fastcampus\\.conda\\Lib\\site-packages\\plotnine\\layer.py:364: PlotnineWarning: geom_text : Removed 1 rows containing missing values.\n",
      "Looks like you are using a tranform that doesn't support FancyArrowPatch, using ax.annotate instead. The arrows might strike through texts. Increasing shrinkA in arrowprops might help.\n"
     ]
    },
    {
     "name": "stdout",
     "output_type": "stream",
     "text": [
      "26 [0.55038966 0.96054419]\n",
      "27 [0.65592298 0.33729332]\n",
      "28 [ 0.21625802 -0.645531  ]\n",
      "29 [ 0.91986041 -0.54017542]\n",
      "30 [-0.56685882 -0.60211334]\n",
      "31 [0.00552147 0.6882957 ]\n",
      "32 [-0.49786254 -0.84698922]\n",
      "33 [ 0.64068875 -0.0199746 ]\n",
      "34 [ 0.37422082 -0.41711639]\n",
      "35 [0.68377588 0.11423045]\n",
      "36 [0.31492454 0.99351452]\n",
      "37 [0.87886404 0.95108992]\n",
      "38 [-0.14542186  0.04668456]\n",
      "39 [-0.93785655  0.41855202]\n",
      "40 [-0.63781488 -0.1272861 ]\n",
      "11 [-0.81132657  0.01656974]\n",
      "12 [-0.83858387  0.9432624 ]\n",
      "13 [ 0.66675737 -0.1602789 ]\n",
      "14 [0.71845156 0.15663862]\n",
      "15 [-0.81704751  0.51742527]\n",
      "16 [ 0.86508518 -0.12044491]\n",
      "17 [-0.46042321 -0.78897675]\n",
      "18 [ 0.77252066 -0.77619298]\n",
      "19 [-0.68536432  0.92030799]\n",
      "20 [ 0.20637695 -0.14626435]\n",
      "21 [-0.33501071  0.65954721]\n",
      "22 [-0.12027287 -0.27643566]\n",
      "23 [ 0.03372029 -0.79130745]\n",
      "24 [-0.37918744 -0.68111184]\n",
      "25 [-0.8492582   0.06085532]\n",
      "6 [-0.77481574  0.38629196]\n",
      "7 [-0.57026342  0.81369344]\n",
      "8 [-0.6864686  -0.71213314]\n",
      "9 [-0.15957476 -0.95302837]\n",
      "10 [-0.1146829  0.4770474]\n",
      "1 [-0.83652287 -0.51695631]\n",
      "2 [-0.74725661  0.35364927]\n",
      "30 [0.72648409 0.94143252]\n",
      "31 [-0.51263356 -0.56188829]\n",
      "32 [-0.21305061  0.61430242]\n",
      "33 [0.24869271 0.40488592]\n",
      "34 [ 0.40253149 -0.52616592]\n",
      "35 [ 0.99270333 -0.7080826 ]\n",
      "36 [0.79019112 0.43607068]\n",
      "37 [-0.65228912 -0.95664437]\n",
      "38 [ 0.89609236 -0.85391785]\n",
      "39 [-0.09414362 -0.23690443]\n",
      "40 [ 0.60607626 -0.64721797]\n",
      "41 [0.82244226 0.00799037]\n",
      "42 [-0.6916568   0.30119566]\n",
      "17 [-0.45373224 -0.94677509]\n",
      "18 [0.68045755 0.74055559]\n",
      "19 [0.81400148 0.22837455]\n",
      "20 [0.23312669 0.41522796]\n",
      "21 [0.69987781 0.55172706]\n",
      "22 [-0.25356337  0.50517744]\n",
      "23 [-0.05170679 -0.84998227]\n",
      "24 [-0.10217532  0.2636871 ]\n",
      "25 [ 0.62075974 -0.01942174]\n",
      "26 [-0.19247618  0.23362245]\n",
      "27 [-0.13876794  0.31794949]\n",
      "28 [-0.84965843 -0.83266541]\n",
      "10 [0.79543666 0.26731474]\n",
      "11 [-0.55813893 -0.79532885]\n",
      "12 [-0.08877249 -0.70886156]\n",
      "13 [-0.18199752  0.08011097]\n",
      "14 [-0.64655639  0.09303149]\n",
      "15 [ 0.75669056 -0.32446145]\n",
      "16 [ 0.3352784  -0.68311884]\n",
      "6 [-0.16959439 -0.83920776]\n",
      "7 [-0.19320924 -0.15722145]\n",
      "8 [-0.15290067 -0.87821393]\n",
      "9 [0.85247147 0.51623143]\n",
      "    * POST-PROCESSING EDA RESULTS\n"
     ]
    },
    {
     "data": {
      "text/markdown": [
       "The correlation funnel has been successfully computed using the Pearson method for the target level **Survived__1**. This analysis allows for a detailed comparison of various features against the survival outcome in the dataset. If you need further details or visualizations based on this analysis, please let me know!"
      ],
      "text/plain": [
       "<IPython.core.display.Markdown object>"
      ]
     },
     "execution_count": 18,
     "metadata": {},
     "output_type": "execute_result"
    }
   ],
   "source": [
    "exploratory_agent.invoke_agent(\n",
    "    user_instructions=\"Use the correlation funnel tool to analyze the dataset. Use the Survived feature as the target. Use Survived=1 as the bin index to compare against.\",\n",
    "    data_raw=df,\n",
    ")\n",
    "exploratory_agent.get_ai_message(markdown=True)"
   ]
  },
  {
   "cell_type": "code",
   "execution_count": 19,
   "metadata": {},
   "outputs": [
    {
     "data": {
      "text/plain": [
       "dict_keys(['correlation_data', 'plot_image', 'plotly_figure'])"
      ]
     },
     "execution_count": 19,
     "metadata": {},
     "output_type": "execute_result"
    }
   ],
   "source": [
    "exploratory_agent.get_artifacts().keys()"
   ]
  },
  {
   "cell_type": "code",
   "execution_count": 20,
   "metadata": {},
   "outputs": [
    {
     "data": {
      "text/html": [
       "<div>\n",
       "<style scoped>\n",
       "    .dataframe tbody tr th:only-of-type {\n",
       "        vertical-align: middle;\n",
       "    }\n",
       "\n",
       "    .dataframe tbody tr th {\n",
       "        vertical-align: top;\n",
       "    }\n",
       "\n",
       "    .dataframe thead th {\n",
       "        text-align: right;\n",
       "    }\n",
       "</style>\n",
       "<table border=\"1\" class=\"dataframe\">\n",
       "  <thead>\n",
       "    <tr style=\"text-align: right;\">\n",
       "      <th></th>\n",
       "      <th>feature</th>\n",
       "      <th>bin</th>\n",
       "      <th>correlation</th>\n",
       "    </tr>\n",
       "  </thead>\n",
       "  <tbody>\n",
       "    <tr>\n",
       "      <th>0</th>\n",
       "      <td>Survived</td>\n",
       "      <td>0</td>\n",
       "      <td>-1.000000</td>\n",
       "    </tr>\n",
       "    <tr>\n",
       "      <th>1</th>\n",
       "      <td>Survived</td>\n",
       "      <td>1</td>\n",
       "      <td>1.000000</td>\n",
       "    </tr>\n",
       "    <tr>\n",
       "      <th>2</th>\n",
       "      <td>Sex</td>\n",
       "      <td>male</td>\n",
       "      <td>-0.532418</td>\n",
       "    </tr>\n",
       "    <tr>\n",
       "      <th>3</th>\n",
       "      <td>Sex</td>\n",
       "      <td>female</td>\n",
       "      <td>0.532418</td>\n",
       "    </tr>\n",
       "    <tr>\n",
       "      <th>4</th>\n",
       "      <td>Ticket</td>\n",
       "      <td>-OTHER</td>\n",
       "      <td>-0.213121</td>\n",
       "    </tr>\n",
       "    <tr>\n",
       "      <th>...</th>\n",
       "      <td>...</td>\n",
       "      <td>...</td>\n",
       "      <td>...</td>\n",
       "    </tr>\n",
       "    <tr>\n",
       "      <th>110</th>\n",
       "      <td>Cabin</td>\n",
       "      <td>D</td>\n",
       "      <td>-0.001503</td>\n",
       "    </tr>\n",
       "    <tr>\n",
       "      <th>111</th>\n",
       "      <td>SibSp</td>\n",
       "      <td>3</td>\n",
       "      <td>-0.001503</td>\n",
       "    </tr>\n",
       "    <tr>\n",
       "      <th>112</th>\n",
       "      <td>Ticket</td>\n",
       "      <td>230080</td>\n",
       "      <td>-0.001503</td>\n",
       "    </tr>\n",
       "    <tr>\n",
       "      <th>113</th>\n",
       "      <td>Cabin</td>\n",
       "      <td>F2</td>\n",
       "      <td>-0.001503</td>\n",
       "    </tr>\n",
       "    <tr>\n",
       "      <th>114</th>\n",
       "      <td>Name</td>\n",
       "      <td>-OTHER</td>\n",
       "      <td>NaN</td>\n",
       "    </tr>\n",
       "  </tbody>\n",
       "</table>\n",
       "<p>115 rows × 3 columns</p>\n",
       "</div>"
      ],
      "text/plain": [
       "      feature     bin  correlation\n",
       "0    Survived       0    -1.000000\n",
       "1    Survived       1     1.000000\n",
       "2         Sex    male    -0.532418\n",
       "3         Sex  female     0.532418\n",
       "4      Ticket  -OTHER    -0.213121\n",
       "..        ...     ...          ...\n",
       "110     Cabin       D    -0.001503\n",
       "111     SibSp       3    -0.001503\n",
       "112    Ticket  230080    -0.001503\n",
       "113     Cabin      F2    -0.001503\n",
       "114      Name  -OTHER          NaN\n",
       "\n",
       "[115 rows x 3 columns]"
      ]
     },
     "execution_count": 20,
     "metadata": {},
     "output_type": "execute_result"
    }
   ],
   "source": [
    "pd.DataFrame(exploratory_agent.get_artifacts()['correlation_data'])"
   ]
  },
  {
   "cell_type": "code",
   "execution_count": 21,
   "metadata": {},
   "outputs": [
    {
     "data": {
      "image/png": "[encoded data removed]",
      "text/plain": [
       "<Figure size 800x600 with 1 Axes>"
      ]
     },
     "metadata": {},
     "output_type": "display_data"
    },
    {
     "data": {
      "text/plain": [
       "(<Figure size 800x600 with 1 Axes>, <Axes: >)"
      ]
     },
     "execution_count": 21,
     "metadata": {},
     "output_type": "execute_result"
    }
   ],
   "source": [
    "matplotlib_from_base64(exploratory_agent.get_artifacts()['plot_image'])"
   ]
  },
  {
   "cell_type": "code",
   "execution_count": 22,
   "metadata": {},
   "outputs": [
    {
     "data": {
      "application/vnd.plotly.v1+json": {
       "config": {
        "plotlyServerURL": "https://plot.ly"
       },
       "data": [
        {
         "customdata": [
          [
           "0"
          ],
          [
           "1"
          ],
          [
           "male"
          ],
          [
           "female"
          ],
          [
           "-OTHER"
          ],
          [
           "2.0_263.5"
          ],
          [
           "36.0_47.5"
          ],
          [
           "0.9_24.0"
          ],
          [
           "-OTHER"
          ],
          [
           "347054"
          ],
          [
           "F G73"
          ],
          [
           "PC 17593"
          ],
          [
           "D26"
          ],
          [
           "35281"
          ],
          [
           "47.5_80.0"
          ],
          [
           "0.0_29.7"
          ],
          [
           "0"
          ],
          [
           "24.0_36.0"
          ],
          [
           "-OTHER"
          ],
          [
           "C"
          ],
          [
           "B96 B98"
          ],
          [
           "113760"
          ],
          [
           "90.0_512.3"
          ],
          [
           "1"
          ],
          [
           "S"
          ],
          [
           "C22 C26"
          ],
          [
           "113781"
          ],
          [
           "13502"
          ],
          [
           "110152"
          ],
          [
           "PC 17572"
          ],
          [
           "F33"
          ],
          [
           "24160"
          ],
          [
           "3"
          ],
          [
           "676.0_890.0"
          ],
          [
           "2"
          ],
          [
           "57.0_90.0"
          ],
          [
           "B35"
          ],
          [
           "B20"
          ],
          [
           "PC 17755"
          ],
          [
           "17474"
          ],
          [
           "PC 17477"
          ],
          [
           "PC 17757"
          ],
          [
           "E8"
          ],
          [
           "E121"
          ],
          [
           "PC 17608"
          ],
          [
           "B57 B59 B63 B66"
          ],
          [
           "113806"
          ],
          [
           "392096"
          ],
          [
           "E25"
          ],
          [
           "B5"
          ],
          [
           "D20"
          ],
          [
           "PC 17485"
          ],
          [
           "C93"
          ],
          [
           "36947"
          ],
          [
           "B77"
          ],
          [
           "19943"
          ],
          [
           "12749"
          ],
          [
           "E24"
          ],
          [
           "D17"
          ],
          [
           "B49"
          ],
          [
           "C125"
          ],
          [
           "F4"
          ],
          [
           "11967"
          ],
          [
           "111361"
          ],
          [
           "B18"
          ],
          [
           "230136"
          ],
          [
           "E101"
          ],
          [
           "11751"
          ],
          [
           "16966"
          ],
          [
           "D33"
          ],
          [
           "D35"
          ],
          [
           "11767"
          ],
          [
           "D36"
          ],
          [
           "PP 9549"
          ],
          [
           "PC 17760"
          ],
          [
           "2"
          ],
          [
           "263.5_457.0"
          ],
          [
           "C23 C25 C27"
          ],
          [
           "19950"
          ],
          [
           "G6"
          ],
          [
           "2"
          ],
          [
           "29.7_57.0"
          ],
          [
           "0"
          ],
          [
           "457.0_676.0"
          ],
          [
           "B22"
          ],
          [
           "WE/P 5735"
          ],
          [
           "B51 B53 B55"
          ],
          [
           "C65"
          ],
          [
           "C68"
          ],
          [
           "PC 17758"
          ],
          [
           "E44"
          ],
          [
           "13507"
          ],
          [
           "C2"
          ],
          [
           "113776"
          ],
          [
           "Q"
          ],
          [
           "C78"
          ],
          [
           "19928"
          ],
          [
           "E67"
          ],
          [
           "113803"
          ],
          [
           "C123"
          ],
          [
           "B58 B60"
          ],
          [
           "PC 17558"
          ],
          [
           "C83"
          ],
          [
           "36973"
          ],
          [
           "1"
          ],
          [
           "1"
          ],
          [
           "17421"
          ],
          [
           "110413"
          ],
          [
           "35273"
          ],
          [
           "PC 17582"
          ],
          [
           "D"
          ],
          [
           "3"
          ],
          [
           "230080"
          ],
          [
           "F2"
          ],
          [
           "-OTHER"
          ]
         ],
         "hoverlabel": {
          "font": {
           "size": 11.200000000000001
          }
         },
         "hovertemplate": "correlation=%{x:.3f}<br>feature=%{y}<br>bin=%{customdata[0]}<extra></extra>",
         "legendgroup": "",
         "marker": {
          "color": "#2c3e50",
          "opacity": 1,
          "symbol": "circle"
         },
         "mode": "markers",
         "name": "",
         "orientation": "h",
         "showlegend": false,
         "text": [
          "0",
          "1",
          "male",
          "female",
          "-OTHER",
          "2.0_263.5",
          "36.0_47.5",
          "0.9_24.0",
          "-OTHER",
          "347054",
          "F G73",
          "PC 17593",
          "D26",
          "35281",
          "47.5_80.0",
          "0.0_29.7",
          "0",
          "24.0_36.0",
          "-OTHER",
          "C",
          "B96 B98",
          "113760",
          "90.0_512.3",
          "1",
          "S",
          "C22 C26",
          "113781",
          "13502",
          "110152",
          "PC 17572",
          "F33",
          "24160",
          "3",
          "676.0_890.0",
          "2",
          "57.0_90.0",
          "B35",
          "B20",
          "PC 17755",
          "17474",
          "PC 17477",
          "PC 17757",
          "E8",
          "E121",
          "PC 17608",
          "B57 B59 B63 B66",
          "113806",
          "392096",
          "E25",
          "B5",
          "D20",
          "PC 17485",
          "C93",
          "36947",
          "B77",
          "19943",
          "12749",
          "E24",
          "D17",
          "B49",
          "C125",
          "F4",
          "11967",
          "111361",
          "B18",
          "230136",
          "E101",
          "11751",
          "16966",
          "D33",
          "D35",
          "11767",
          "D36",
          "PP 9549",
          "PC 17760",
          "2",
          "263.5_457.0",
          "C23 C25 C27",
          "19950",
          "G6",
          "2",
          "29.7_57.0",
          "0",
          "457.0_676.0",
          "B22",
          "WE/P 5735",
          "B51 B53 B55",
          "C65",
          "C68",
          "PC 17758",
          "E44",
          "13507",
          "C2",
          "113776",
          "Q",
          "C78",
          "19928",
          "E67",
          "113803",
          "C123",
          "B58 B60",
          "PC 17558",
          "C83",
          "36973",
          "1",
          "1",
          "17421",
          "110413",
          "35273",
          "PC 17582",
          "D",
          "3",
          "230080",
          "F2",
          "-OTHER"
         ],
         "type": "scatter",
         "x": {
          "bdata": "AAAAAAAA8L8AAAAAAADwPzSegmuRCeG/NJ6Ca5EJ4T8JAd6PikfLv8gFjWv6wse/BkBr8/85x786Jo4ze9LGP1SV3NSWZcO/JF0qbcRDw78eXSptxEPDvxxdKm3EQ8O/GF0qbcRDw78YXSptxEPDvxbL3l9k5MC/4SrCHStPv79YITCWcAe+v6og9i6kwbw/wLnAh2Iru78Faekfwti6P4swR2teuro/izBHa166uj8x6vXioPq5PxeLSGmW5Lg/nGgJCFmKuL8uCZSkJ9q3vy4JlKQn2re/IfBEny4Vtz8h8ESfLhW3PyHwRJ8uFbc/IPBEny4Vtz8f8ESfLhW3P8W+yJt9kba/YT+0necrtT84OgKPEda0PyRQEk0QD7M/Wmfe83rLsj9aZ97zesuyP1pn3vN6y7I/Wmfe83rLsj9aZ97zesuyP1ln3vN6y7I/WWfe83rLsj9ZZ97zesuyP1ln3vN6y7I/WWfe83rLsj9ZZ97zesuyP1ln3vN6y7I/WGfe83rLsj9YZ97zesuyP1hn3vN6y7I/WGfe83rLsj9YZ97zesuyP1hn3vN6y7I/WGfe83rLsj9YZ97zesuyP1hn3vN6y7I/WGfe83rLsj9YZ97zesuyP1dn3vN6y7I/V2fe83rLsj9XZ97zesuyP1dn3vN6y7I/V2fe83rLsj9XZ97zesuyP1dn3vN6y7I/V2fe83rLsj9WZ97zesuyP1Zn3vN6y7I/Vmfe83rLsj9WZ97zesuyP1Zn3vN6y7I/Vmfe83rLsj9VZ97zesuyP1Vn3vN6y7I/jjLizHQvsD9iCQwko5qsPzkmcb18EKy/OSZxvXwQrL8mJnG9fBCsv9FbCcaftKs/IcxlOQ1aqr/geH1HL0mpvy1sXW7/Rqg/6VJ25g28o7/pUnbmDbyjv+lSduYNvKO/5VJ25g28o7/lUnbmDbyjv+VSduYNvKO/4FJ25g28o7/gUnbmDbyjv99SduYNvKO/31J25g28o7/eUnbmDbyjv95SduYNvKO/3lJ25g28o7/dUnbmDbyjv9xSduYNvKO/3FJ25g28o7/bUnbmDbyjv9tSduYNvKO/2lJ25g28o7/aUnbmDbyjv2VV5u0XyaA/PZhT8JVPe7+CIeOpIJ9Yv4Ih46kgn1i/bCHjqSCfWL9sIeOpIJ9Yv1Ih46kgn1i/KyHjqSCfWL8kIeOpIJ9YvyQh46kgn1i/AAAAAAAA+P8=",
          "dtype": "f8"
         },
         "xaxis": "x",
         "y": [
          "Survived",
          "Survived",
          "Sex",
          "Sex",
          "Ticket",
          "PassengerId",
          "Age",
          "Age",
          "Cabin",
          "Ticket",
          "Cabin",
          "Ticket",
          "Cabin",
          "Ticket",
          "Age",
          "Fare",
          "SibSp",
          "Age",
          "Parch",
          "Embarked",
          "Cabin",
          "Ticket",
          "Fare",
          "SibSp",
          "Embarked",
          "Cabin",
          "Ticket",
          "Ticket",
          "Ticket",
          "Ticket",
          "Cabin",
          "Ticket",
          "Pclass",
          "PassengerId",
          "Pclass",
          "Fare",
          "Cabin",
          "Cabin",
          "Ticket",
          "Ticket",
          "Ticket",
          "Ticket",
          "Cabin",
          "Cabin",
          "Ticket",
          "Cabin",
          "Ticket",
          "Ticket",
          "Cabin",
          "Cabin",
          "Cabin",
          "Ticket",
          "Cabin",
          "Ticket",
          "Cabin",
          "Ticket",
          "Ticket",
          "Cabin",
          "Cabin",
          "Cabin",
          "Cabin",
          "Cabin",
          "Ticket",
          "Ticket",
          "Cabin",
          "Ticket",
          "Cabin",
          "Ticket",
          "Ticket",
          "Cabin",
          "Cabin",
          "Ticket",
          "Cabin",
          "Ticket",
          "Ticket",
          "SibSp",
          "PassengerId",
          "Cabin",
          "Ticket",
          "Cabin",
          "Parch",
          "Fare",
          "Parch",
          "PassengerId",
          "Cabin",
          "Ticket",
          "Cabin",
          "Cabin",
          "Cabin",
          "Ticket",
          "Cabin",
          "Ticket",
          "Cabin",
          "Ticket",
          "Embarked",
          "Cabin",
          "Ticket",
          "Cabin",
          "Ticket",
          "Cabin",
          "Cabin",
          "Ticket",
          "Cabin",
          "Ticket",
          "Parch",
          "Pclass",
          "Ticket",
          "Ticket",
          "Ticket",
          "Ticket",
          "Cabin",
          "SibSp",
          "Ticket",
          "Cabin",
          "Name"
         ],
         "yaxis": "y"
        }
       ],
       "layout": {
        "autosize": true,
        "font": {
         "size": 14
        },
        "legend": {
         "font": {
          "size": 11.200000000000001
         },
         "title": {
          "font": {
           "size": 11.200000000000001
          }
         },
         "tracegroupgap": 0
        },
        "margin": {
         "b": 40,
         "l": 10,
         "r": 10,
         "t": 40
        },
        "showlegend": false,
        "template": {
         "data": {
          "bar": [
           {
            "error_x": {
             "color": "#2a3f5f"
            },
            "error_y": {
             "color": "#2a3f5f"
            },
            "marker": {
             "line": {
              "color": "white",
              "width": 0.5
             },
             "pattern": {
              "fillmode": "overlay",
              "size": 10,
              "solidity": 0.2
             }
            },
            "type": "bar"
           }
          ],
          "barpolar": [
           {
            "marker": {
             "line": {
              "color": "white",
              "width": 0.5
             },
             "pattern": {
              "fillmode": "overlay",
              "size": 10,
              "solidity": 0.2
             }
            },
            "type": "barpolar"
           }
          ],
          "carpet": [
           {
            "aaxis": {
             "endlinecolor": "#2a3f5f",
             "gridcolor": "#C8D4E3",
             "linecolor": "#C8D4E3",
             "minorgridcolor": "#C8D4E3",
             "startlinecolor": "#2a3f5f"
            },
            "baxis": {
             "endlinecolor": "#2a3f5f",
             "gridcolor": "#C8D4E3",
             "linecolor": "#C8D4E3",
             "minorgridcolor": "#C8D4E3",
             "startlinecolor": "#2a3f5f"
            },
            "type": "carpet"
           }
          ],
          "choropleth": [
           {
            "colorbar": {
             "outlinewidth": 0,
             "ticks": ""
            },
            "type": "choropleth"
           }
          ],
          "contour": [
           {
            "colorbar": {
             "outlinewidth": 0,
             "ticks": ""
            },
            "colorscale": [
             [
              0,
              "#0d0887"
             ],
             [
              0.1111111111111111,
              "#46039f"
             ],
             [
              0.2222222222222222,
              "#7201a8"
             ],
             [
              0.3333333333333333,
              "#9c179e"
             ],
             [
              0.4444444444444444,
              "#bd3786"
             ],
             [
              0.5555555555555556,
              "#d8576b"
             ],
             [
              0.6666666666666666,
              "#ed7953"
             ],
             [
              0.7777777777777778,
              "#fb9f3a"
             ],
             [
              0.8888888888888888,
              "#fdca26"
             ],
             [
              1,
              "#f0f921"
             ]
            ],
            "type": "contour"
           }
          ],
          "contourcarpet": [
           {
            "colorbar": {
             "outlinewidth": 0,
             "ticks": ""
            },
            "type": "contourcarpet"
           }
          ],
          "heatmap": [
           {
            "colorbar": {
             "outlinewidth": 0,
             "ticks": ""
            },
            "colorscale": [
             [
              0,
              "#0d0887"
             ],
             [
              0.1111111111111111,
              "#46039f"
             ],
             [
              0.2222222222222222,
              "#7201a8"
             ],
             [
              0.3333333333333333,
              "#9c179e"
             ],
             [
              0.4444444444444444,
              "#bd3786"
             ],
             [
              0.5555555555555556,
              "#d8576b"
             ],
             [
              0.6666666666666666,
              "#ed7953"
             ],
             [
              0.7777777777777778,
              "#fb9f3a"
             ],
             [
              0.8888888888888888,
              "#fdca26"
             ],
             [
              1,
              "#f0f921"
             ]
            ],
            "type": "heatmap"
           }
          ],
          "histogram": [
           {
            "marker": {
             "pattern": {
              "fillmode": "overlay",
              "size": 10,
              "solidity": 0.2
             }
            },
            "type": "histogram"
           }
          ],
          "histogram2d": [
           {
            "colorbar": {
             "outlinewidth": 0,
             "ticks": ""
            },
            "colorscale": [
             [
              0,
              "#0d0887"
             ],
             [
              0.1111111111111111,
              "#46039f"
             ],
             [
              0.2222222222222222,
              "#7201a8"
             ],
             [
              0.3333333333333333,
              "#9c179e"
             ],
             [
              0.4444444444444444,
              "#bd3786"
             ],
             [
              0.5555555555555556,
              "#d8576b"
             ],
             [
              0.6666666666666666,
              "#ed7953"
             ],
             [
              0.7777777777777778,
              "#fb9f3a"
             ],
             [
              0.8888888888888888,
              "#fdca26"
             ],
             [
              1,
              "#f0f921"
             ]
            ],
            "type": "histogram2d"
           }
          ],
          "histogram2dcontour": [
           {
            "colorbar": {
             "outlinewidth": 0,
             "ticks": ""
            },
            "colorscale": [
             [
              0,
              "#0d0887"
             ],
             [
              0.1111111111111111,
              "#46039f"
             ],
             [
              0.2222222222222222,
              "#7201a8"
             ],
             [
              0.3333333333333333,
              "#9c179e"
             ],
             [
              0.4444444444444444,
              "#bd3786"
             ],
             [
              0.5555555555555556,
              "#d8576b"
             ],
             [
              0.6666666666666666,
              "#ed7953"
             ],
             [
              0.7777777777777778,
              "#fb9f3a"
             ],
             [
              0.8888888888888888,
              "#fdca26"
             ],
             [
              1,
              "#f0f921"
             ]
            ],
            "type": "histogram2dcontour"
           }
          ],
          "mesh3d": [
           {
            "colorbar": {
             "outlinewidth": 0,
             "ticks": ""
            },
            "type": "mesh3d"
           }
          ],
          "parcoords": [
           {
            "line": {
             "colorbar": {
              "outlinewidth": 0,
              "ticks": ""
             }
            },
            "type": "parcoords"
           }
          ],
          "pie": [
           {
            "automargin": true,
            "type": "pie"
           }
          ],
          "scatter": [
           {
            "fillpattern": {
             "fillmode": "overlay",
             "size": 10,
             "solidity": 0.2
            },
            "type": "scatter"
           }
          ],
          "scatter3d": [
           {
            "line": {
             "colorbar": {
              "outlinewidth": 0,
              "ticks": ""
             }
            },
            "marker": {
             "colorbar": {
              "outlinewidth": 0,
              "ticks": ""
             }
            },
            "type": "scatter3d"
           }
          ],
          "scattercarpet": [
           {
            "marker": {
             "colorbar": {
              "outlinewidth": 0,
              "ticks": ""
             }
            },
            "type": "scattercarpet"
           }
          ],
          "scattergeo": [
           {
            "marker": {
             "colorbar": {
              "outlinewidth": 0,
              "ticks": ""
             }
            },
            "type": "scattergeo"
           }
          ],
          "scattergl": [
           {
            "marker": {
             "colorbar": {
              "outlinewidth": 0,
              "ticks": ""
             }
            },
            "type": "scattergl"
           }
          ],
          "scattermap": [
           {
            "marker": {
             "colorbar": {
              "outlinewidth": 0,
              "ticks": ""
             }
            },
            "type": "scattermap"
           }
          ],
          "scattermapbox": [
           {
            "marker": {
             "colorbar": {
              "outlinewidth": 0,
              "ticks": ""
             }
            },
            "type": "scattermapbox"
           }
          ],
          "scatterpolar": [
           {
            "marker": {
             "colorbar": {
              "outlinewidth": 0,
              "ticks": ""
             }
            },
            "type": "scatterpolar"
           }
          ],
          "scatterpolargl": [
           {
            "marker": {
             "colorbar": {
              "outlinewidth": 0,
              "ticks": ""
             }
            },
            "type": "scatterpolargl"
           }
          ],
          "scatterternary": [
           {
            "marker": {
             "colorbar": {
              "outlinewidth": 0,
              "ticks": ""
             }
            },
            "type": "scatterternary"
           }
          ],
          "surface": [
           {
            "colorbar": {
             "outlinewidth": 0,
             "ticks": ""
            },
            "colorscale": [
             [
              0,
              "#0d0887"
             ],
             [
              0.1111111111111111,
              "#46039f"
             ],
             [
              0.2222222222222222,
              "#7201a8"
             ],
             [
              0.3333333333333333,
              "#9c179e"
             ],
             [
              0.4444444444444444,
              "#bd3786"
             ],
             [
              0.5555555555555556,
              "#d8576b"
             ],
             [
              0.6666666666666666,
              "#ed7953"
             ],
             [
              0.7777777777777778,
              "#fb9f3a"
             ],
             [
              0.8888888888888888,
              "#fdca26"
             ],
             [
              1,
              "#f0f921"
             ]
            ],
            "type": "surface"
           }
          ],
          "table": [
           {
            "cells": {
             "fill": {
              "color": "#EBF0F8"
             },
             "line": {
              "color": "white"
             }
            },
            "header": {
             "fill": {
              "color": "#C8D4E3"
             },
             "line": {
              "color": "white"
             }
            },
            "type": "table"
           }
          ]
         },
         "layout": {
          "annotationdefaults": {
           "arrowcolor": "#2a3f5f",
           "arrowhead": 0,
           "arrowwidth": 1
          },
          "autotypenumbers": "strict",
          "coloraxis": {
           "colorbar": {
            "outlinewidth": 0,
            "ticks": ""
           }
          },
          "colorscale": {
           "diverging": [
            [
             0,
             "#8e0152"
            ],
            [
             0.1,
             "#c51b7d"
            ],
            [
             0.2,
             "#de77ae"
            ],
            [
             0.3,
             "#f1b6da"
            ],
            [
             0.4,
             "#fde0ef"
            ],
            [
             0.5,
             "#f7f7f7"
            ],
            [
             0.6,
             "#e6f5d0"
            ],
            [
             0.7,
             "#b8e186"
            ],
            [
             0.8,
             "#7fbc41"
            ],
            [
             0.9,
             "#4d9221"
            ],
            [
             1,
             "#276419"
            ]
           ],
           "sequential": [
            [
             0,
             "#0d0887"
            ],
            [
             0.1111111111111111,
             "#46039f"
            ],
            [
             0.2222222222222222,
             "#7201a8"
            ],
            [
             0.3333333333333333,
             "#9c179e"
            ],
            [
             0.4444444444444444,
             "#bd3786"
            ],
            [
             0.5555555555555556,
             "#d8576b"
            ],
            [
             0.6666666666666666,
             "#ed7953"
            ],
            [
             0.7777777777777778,
             "#fb9f3a"
            ],
            [
             0.8888888888888888,
             "#fdca26"
            ],
            [
             1,
             "#f0f921"
            ]
           ],
           "sequentialminus": [
            [
             0,
             "#0d0887"
            ],
            [
             0.1111111111111111,
             "#46039f"
            ],
            [
             0.2222222222222222,
             "#7201a8"
            ],
            [
             0.3333333333333333,
             "#9c179e"
            ],
            [
             0.4444444444444444,
             "#bd3786"
            ],
            [
             0.5555555555555556,
             "#d8576b"
            ],
            [
             0.6666666666666666,
             "#ed7953"
            ],
            [
             0.7777777777777778,
             "#fb9f3a"
            ],
            [
             0.8888888888888888,
             "#fdca26"
            ],
            [
             1,
             "#f0f921"
            ]
           ]
          },
          "colorway": [
           "#636efa",
           "#EF553B",
           "#00cc96",
           "#ab63fa",
           "#FFA15A",
           "#19d3f3",
           "#FF6692",
           "#B6E880",
           "#FF97FF",
           "#FECB52"
          ],
          "font": {
           "color": "#2a3f5f"
          },
          "geo": {
           "bgcolor": "white",
           "lakecolor": "white",
           "landcolor": "white",
           "showlakes": true,
           "showland": true,
           "subunitcolor": "#C8D4E3"
          },
          "hoverlabel": {
           "align": "left"
          },
          "hovermode": "closest",
          "mapbox": {
           "style": "light"
          },
          "paper_bgcolor": "white",
          "plot_bgcolor": "white",
          "polar": {
           "angularaxis": {
            "gridcolor": "#EBF0F8",
            "linecolor": "#EBF0F8",
            "ticks": ""
           },
           "bgcolor": "white",
           "radialaxis": {
            "gridcolor": "#EBF0F8",
            "linecolor": "#EBF0F8",
            "ticks": ""
           }
          },
          "scene": {
           "xaxis": {
            "backgroundcolor": "white",
            "gridcolor": "#DFE8F3",
            "gridwidth": 2,
            "linecolor": "#EBF0F8",
            "showbackground": true,
            "ticks": "",
            "zerolinecolor": "#EBF0F8"
           },
           "yaxis": {
            "backgroundcolor": "white",
            "gridcolor": "#DFE8F3",
            "gridwidth": 2,
            "linecolor": "#EBF0F8",
            "showbackground": true,
            "ticks": "",
            "zerolinecolor": "#EBF0F8"
           },
           "zaxis": {
            "backgroundcolor": "white",
            "gridcolor": "#DFE8F3",
            "gridwidth": 2,
            "linecolor": "#EBF0F8",
            "showbackground": true,
            "ticks": "",
            "zerolinecolor": "#EBF0F8"
           }
          },
          "shapedefaults": {
           "line": {
            "color": "#2a3f5f"
           }
          },
          "ternary": {
           "aaxis": {
            "gridcolor": "#DFE8F3",
            "linecolor": "#A2B1C6",
            "ticks": ""
           },
           "baxis": {
            "gridcolor": "#DFE8F3",
            "linecolor": "#A2B1C6",
            "ticks": ""
           },
           "bgcolor": "white",
           "caxis": {
            "gridcolor": "#DFE8F3",
            "linecolor": "#A2B1C6",
            "ticks": ""
           }
          },
          "title": {
           "x": 0.05
          },
          "xaxis": {
           "automargin": true,
           "gridcolor": "#EBF0F8",
           "linecolor": "#EBF0F8",
           "ticks": "",
           "title": {
            "standoff": 15
           },
           "zerolinecolor": "#EBF0F8",
           "zerolinewidth": 2
          },
          "yaxis": {
           "automargin": true,
           "gridcolor": "#EBF0F8",
           "linecolor": "#EBF0F8",
           "ticks": "",
           "title": {
            "standoff": 15
           },
           "zerolinecolor": "#EBF0F8",
           "zerolinewidth": 2
          }
         }
        },
        "title": {
         "font": {
          "size": 16.8
         },
         "text": "Correlation Funnel Plot"
        },
        "xaxis": {
         "anchor": "y",
         "domain": [
          0,
          1
         ],
         "range": [
          -1,
          1
         ],
         "showticklabels": true,
         "tickfont": {
          "size": 11.200000000000001
         },
         "title": {
          "text": "Correlation"
         },
         "visible": true
        },
        "yaxis": {
         "anchor": "x",
         "autorange": "reversed",
         "domain": [
          0,
          1
         ],
         "tickfont": {
          "size": 11.200000000000001
         },
         "title": {
          "text": "Feature"
         }
        }
       }
      }
     },
     "metadata": {},
     "output_type": "display_data"
    }
   ],
   "source": [
    "plotly_from_dict(exploratory_agent.get_artifacts()['plotly_figure'])"
   ]
  },
  {
   "cell_type": "markdown",
   "metadata": {},
   "source": [
    "#### Example 5: Sweetviz(`generate_sweetviz_report`) Tool"
   ]
  },
  {
   "cell_type": "markdown",
   "metadata": {},
   "source": [
    "`pip install sweetviz`"
   ]
  },
  {
   "cell_type": "code",
   "execution_count": 23,
   "metadata": {},
   "outputs": [
    {
     "name": "stdout",
     "output_type": "stream",
     "text": [
      "---EXPLORATORY DATA ANALYST AGENT----\n",
      "    * RUN REACT TOOL-CALLING AGENT FOR EDA\n",
      "    * Tool: generate_sweetviz_report\n",
      "    * Using temporary directory: C:\\Users\\pnylo\\AppData\\Local\\Temp\\tmp0qqqrjq5\n"
     ]
    },
    {
     "name": "stderr",
     "output_type": "stream",
     "text": [
      "Done! Use 'show' commands to display/save.   |██████████| [100%]   00:00 -> (00:00 left)\n"
     ]
    },
    {
     "name": "stdout",
     "output_type": "stream",
     "text": [
      "Report C:\\Users\\pnylo\\AppData\\Local\\Temp\\tmp0qqqrjq5\\sweetviz_report.html was generated.\n",
      "    * POST-PROCESSING EDA RESULTS\n"
     ]
    },
    {
     "data": {
      "text/markdown": [
       "The Sweetviz report has been generated and saved successfully. You can view it [here](C:\\Users\\pnylo\\AppData\\Local\\Temp\\tmp0qqqrjq5\\sweetviz_report.html)."
      ],
      "text/plain": [
       "<IPython.core.display.Markdown object>"
      ]
     },
     "execution_count": 23,
     "metadata": {},
     "output_type": "execute_result"
    }
   ],
   "source": [
    "exploratory_agent.invoke_agent(\n",
    "    user_instructions=\"Generate a Sweetviz report for the dataset. Use the Survived feature as the target.\",\n",
    "    data_raw=df,\n",
    ")\n",
    "exploratory_agent.get_ai_message(markdown=True)"
   ]
  },
  {
   "cell_type": "code",
   "execution_count": 24,
   "metadata": {},
   "outputs": [
    {
     "data": {
      "text/plain": [
       "dict_keys(['report_file', 'report_html'])"
      ]
     },
     "execution_count": 24,
     "metadata": {},
     "output_type": "execute_result"
    }
   ],
   "source": [
    "exploratory_agent.get_artifacts().keys()"
   ]
  },
  {
   "cell_type": "code",
   "execution_count": 25,
   "metadata": {},
   "outputs": [],
   "source": [
    "open_html_file_in_browser(exploratory_agent.get_artifacts()['report_file'])"
   ]
  },
  {
   "cell_type": "code",
   "execution_count": null,
   "metadata": {},
   "outputs": [],
   "source": []
  }
 ],
 "metadata": {
  "kernelspec": {
   "display_name": "Python 3",
   "language": "python",
   "name": "python3"
  },
  "language_info": {
   "codemirror_mode": {
    "name": "ipython",
    "version": 3
   },
   "file_extension": ".py",
   "mimetype": "text/x-python",
   "name": "python",
   "nbconvert_exporter": "python",
   "pygments_lexer": "ipython3",
   "version": "3.11.11"
  }
 },
 "nbformat": 4,
 "nbformat_minor": 2
}
