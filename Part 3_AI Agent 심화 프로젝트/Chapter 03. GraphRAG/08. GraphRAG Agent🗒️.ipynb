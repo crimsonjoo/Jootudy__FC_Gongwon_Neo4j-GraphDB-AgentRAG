{
 "cells": [
  {
   "cell_type": "markdown",
   "id": "e6d8a9e9",
   "metadata": {},
   "source": [
    "**Part 3. AI Agent 심화 프로젝트**\n",
    "\n",
    "- Chapter 03. GraphRAG\n",
    "\n",
    "    - **📒[실습]** Clip 08. GraphRAG Agent🗒️"
   ]
  },
  {
   "cell_type": "markdown",
   "id": "6d28bd47",
   "metadata": {},
   "source": [
    "## 🔗 Graph DB 연결하기"
   ]
  },
  {
   "cell_type": "markdown",
   "id": "0e721bb4",
   "metadata": {},
   "source": [
    "1) Aura DB"
   ]
  },
  {
   "cell_type": "code",
   "execution_count": null,
   "id": "7b0cf448",
   "metadata": {},
   "outputs": [],
   "source": [
    "from neo4j import GraphDatabase\n",
    "\n",
    "# URI examples: \"neo4j://localhost\", \"neo4j+s://xxx.databases.neo4j.io\"\n",
    "URI = \"neo4j+s://000.databases.neo4j.io\"\n",
    "AUTH = (\"neo4j\", \"<PASSWORD>\")\n",
    "\n",
    "with GraphDatabase.driver(URI, auth=AUTH) as driver:\n",
    "    driver.verify_connectivity()"
   ]
  },
  {
   "cell_type": "markdown",
   "id": "cc64994b",
   "metadata": {},
   "source": [
    "2) Sandbox : https://github.com/neo4j-graph-examples/recommendations"
   ]
  },
  {
   "cell_type": "code",
   "execution_count": 1,
   "id": "cc70d5ea",
   "metadata": {},
   "outputs": [],
   "source": [
    "from neo4j import GraphDatabase\n",
    "\n",
    "# URI examples: \"neo4j://localhost\", \"neo4j+s://xxx.databases.neo4j.io\"\n",
    "URI = \"neo4j://44.197.170.109:7687\"\n",
    "AUTH = (\"neo4j\", \"nineties-breaks-preservers\")\n",
    "\n",
    "with GraphDatabase.driver(URI, auth=AUTH) as driver:\n",
    "    driver.verify_connectivity()"
   ]
  },
  {
   "cell_type": "code",
   "execution_count": 2,
   "id": "10aed40d",
   "metadata": {},
   "outputs": [],
   "source": [
    "driver = GraphDatabase.driver(URI, auth=AUTH)"
   ]
  },
  {
   "cell_type": "code",
   "execution_count": 3,
   "id": "a44f716a",
   "metadata": {},
   "outputs": [],
   "source": [
    "import getpass\n",
    "import os\n",
    "\n",
    "\n",
    "def _set_env(var: str):\n",
    "    if not os.environ.get(var):\n",
    "        os.environ[var] = getpass.getpass(f\"{var}: \")\n",
    "\n",
    "\n",
    "_set_env(\"OPENAI_API_KEY\")\n"
   ]
  },
  {
   "cell_type": "code",
   "execution_count": 4,
   "id": "8d0a516b",
   "metadata": {},
   "outputs": [],
   "source": [
    "from langchain_openai import ChatOpenAI\n",
    "\n",
    "llm = ChatOpenAI(model=\"gpt-4o\")"
   ]
  },
  {
   "cell_type": "code",
   "execution_count": null,
   "id": "9a24a231",
   "metadata": {},
   "outputs": [],
   "source": []
  },
  {
   "cell_type": "markdown",
   "id": "86a46bb3",
   "metadata": {},
   "source": [
    "### DB 스키마 생성하기"
   ]
  },
  {
   "cell_type": "code",
   "execution_count": 5,
   "id": "bcb17a4f",
   "metadata": {},
   "outputs": [
    {
     "name": "stderr",
     "output_type": "stream",
     "text": [
      "Received notification from DBMS server: {severity: WARNING} {code: Neo.ClientNotification.Procedure.ProcedureWarning} {category: GENERIC} {title: The query used a procedure that generated a warning.} {description: The query used a procedure that generated a warning. (The field `propertyTypes` will change output format in the next major version.)} {position: line: 2, column: 9, offset: 9} for query: '\\n        CALL db.schema.nodeTypeProperties() YIELD nodeType, propertyName, propertyTypes\\n        RETURN nodeType, propertyName, propertyTypes\\n        '\n",
      "Received notification from DBMS server: {severity: WARNING} {code: Neo.ClientNotification.Procedure.ProcedureWarning} {category: GENERIC} {title: The query used a procedure that generated a warning.} {description: The query used a procedure that generated a warning. (The field `propertyTypes` will change output format in the next major version.)} {position: line: 2, column: 9, offset: 9} for query: '\\n        CALL db.schema.relTypeProperties() YIELD relType, propertyName, propertyTypes\\n        RETURN relType, propertyName, propertyTypes\\n        '\n"
     ]
    }
   ],
   "source": [
    "from collections import defaultdict\n",
    "\n",
    "def get_schema():\n",
    "    schema = \"\"\n",
    "    with driver.session() as session:\n",
    "        # 모든 노드 라벨과 속성 추출\n",
    "        node_schema = session.run(\"\"\"\n",
    "        CALL db.schema.nodeTypeProperties() YIELD nodeType, propertyName, propertyTypes\n",
    "        RETURN nodeType, propertyName, propertyTypes\n",
    "        \"\"\")\n",
    "\n",
    "        nodes = defaultdict(dict)\n",
    "        for record in node_schema:\n",
    "            label = record[\"nodeType\"].replace(\":\", \"\")\n",
    "            prop = record[\"propertyName\"]\n",
    "            types = record[\"propertyTypes\"]\n",
    "            nodes[label][prop] = types[0] if types else \"UNKNOWN\"\n",
    "\n",
    "        # 모든 관계 타입과 속성 추출\n",
    "        rel_schema = session.run(\"\"\"\n",
    "        CALL db.schema.relTypeProperties() YIELD relType, propertyName, propertyTypes\n",
    "        RETURN relType, propertyName, propertyTypes\n",
    "        \"\"\")\n",
    "\n",
    "        relationships = defaultdict(dict)\n",
    "        for record in rel_schema:\n",
    "            rel = record[\"relType\"]\n",
    "            prop = record[\"propertyName\"]\n",
    "            types = record[\"propertyTypes\"]\n",
    "            relationships[rel][prop] = types[0] if types else \"UNKNOWN\"\n",
    "\n",
    "        # 관계 방향 및 타입 추출\n",
    "        rel_types = session.run(\"\"\"\n",
    "        MATCH (a)-[r]->(b)\n",
    "        RETURN DISTINCT labels(a) AS from_labels, type(r) AS rel_type, labels(b) AS to_labels\n",
    "        \"\"\")\n",
    "\n",
    "        rel_directions = set()\n",
    "        for record in rel_types:\n",
    "            from_label = f\":{record['from_labels'][0]}\"\n",
    "            to_label = f\":{record['to_labels'][0]}\"\n",
    "            rel_type = record['rel_type']\n",
    "            rel_directions.add(f\"({from_label})-[:{rel_type}]->({to_label})\")\n",
    "\n",
    "    # 출력\n",
    "    schema += \"\\nNode properties:\\n\"\n",
    "    for label, props in nodes.items():\n",
    "        prop_str = \", \".join(f\"{k}: {v}\" for k, v in props.items())\n",
    "        schema += f\"{label} {{{prop_str}}}\\n\"\n",
    "\n",
    "    schema += \"\\nRelationship properties:\\n\"\n",
    "    for rel, props in relationships.items():\n",
    "        prop_str = \", \".join(f\"{k}: {v}\" for k, v in props.items())\n",
    "        schema += f\"{rel} {{{prop_str}}}\\n\"\n",
    "\n",
    "    schema += \"\\nThe relationships:\\n\"\n",
    "    for rel in sorted(rel_directions):\n",
    "        schema += f\"{rel}\\n\"\n",
    "    return schema\n",
    "\n",
    "schema = get_schema()"
   ]
  },
  {
   "cell_type": "code",
   "execution_count": 6,
   "id": "02f928f6",
   "metadata": {},
   "outputs": [
    {
     "name": "stdout",
     "output_type": "stream",
     "text": [
      "\n",
      "Node properties:\n",
      "`Genre` {name: String}\n",
      "`User` {name: String, userId: String}\n",
      "`Director``Person` {name: String, imdbId: String, tmdbId: String, poster: String, born: Date, died: Date, bornIn: String, bio: String, url: String}\n",
      "`Actor``Person` {name: String, imdbId: String, tmdbId: String, poster: String, born: Date, died: Date, bornIn: String, bio: String, url: String}\n",
      "`Actor``Director``Person` {name: String, imdbId: String, tmdbId: String, poster: String, born: Date, died: Date, bornIn: String, bio: String, url: String}\n",
      "`Movie` {movieId: String, imdbId: String, title: String, tmdbId: String, year: Long, countries: StringArray, languages: StringArray, plot: String, imdbRating: Double, imdbVotes: Long, released: String, runtime: Long, poster: String, revenue: Long, budget: Long, url: String, embedding: DoubleArray}\n",
      "\n",
      "Relationship properties:\n",
      ":`IN_GENRE` {None: UNKNOWN}\n",
      ":`RATED` {rating: Double, timestamp: Long}\n",
      ":`ACTED_IN` {role: String}\n",
      ":`DIRECTED` {role: String}\n",
      "\n",
      "The relationships:\n",
      "(:Actor)-[:ACTED_IN]->(:Movie)\n",
      "(:Actor)-[:DIRECTED]->(:Movie)\n",
      "(:Director)-[:DIRECTED]->(:Movie)\n",
      "(:Movie)-[:IN_GENRE]->(:Genre)\n",
      "(:User)-[:RATED]->(:Movie)\n",
      "\n"
     ]
    }
   ],
   "source": [
    "print(schema)"
   ]
  },
  {
   "cell_type": "code",
   "execution_count": null,
   "id": "dc5c7ab1",
   "metadata": {},
   "outputs": [],
   "source": []
  },
  {
   "cell_type": "markdown",
   "id": "a40b6987",
   "metadata": {},
   "source": [
    "## 🧑‍💻 Text2Cypher 기반 GraphRAG Agent 만들기"
   ]
  },
  {
   "attachments": {
    "image.png": {
     "image/png": "[encoded data removed]"
    }
   },
   "cell_type": "markdown",
   "id": "d57c57f2",
   "metadata": {},
   "source": [
    "![image.png](attachment:image.png)"
   ]
  },
  {
   "cell_type": "markdown",
   "id": "a0f407ab",
   "metadata": {},
   "source": [
    "### Graph State 설정하기"
   ]
  },
  {
   "cell_type": "code",
   "execution_count": 9,
   "id": "1905865b",
   "metadata": {},
   "outputs": [],
   "source": [
    "from operator import add\n",
    "from typing import Annotated, List\n",
    "\n",
    "from typing_extensions import TypedDict\n",
    "\n",
    "\n",
    "class InputState(TypedDict):\n",
    "    question: str\n",
    "\n",
    "\n",
    "class OverallState(TypedDict):\n",
    "    question: str # 질문\n",
    "    next_action: str # 다음 단계\n",
    "    cypher_statement: str # Cypher 쿼리\n",
    "    cypher_errors: List[str] # Cypher 쿼리 오류\n",
    "    database_records: List[dict] # DB 실행 결과\n",
    "    steps: Annotated[List[str], add] # 그래프 실행 단계\n",
    "\n",
    "\n",
    "class OutputState(TypedDict):\n",
    "    answer: str\n",
    "    steps: List[str]\n",
    "    cypher_statement: str"
   ]
  },
  {
   "cell_type": "markdown",
   "id": "8f4c87bc",
   "metadata": {},
   "source": [
    "### 1) 가드레일(일반 질문 vs 영화 질문) 노드 추가"
   ]
  },
  {
   "cell_type": "code",
   "execution_count": 10,
   "id": "5fa903a4",
   "metadata": {},
   "outputs": [],
   "source": [
    "from typing import Literal\n",
    "\n",
    "from langchain_core.prompts import ChatPromptTemplate\n",
    "from pydantic import BaseModel, Field\n",
    "\n",
    "guardrails_system = \"\"\"\n",
    "As an intelligent assistant, your primary objective is to decide whether a given question is related to movies or not. \n",
    "If the question is related to movies, output \"movie\". Otherwise, output \"end\".\n",
    "To make this decision, assess the content of the question and determine if it refers to any movie, actor, director, film industry, \n",
    "or related topics. Provide only the specified output: \"movie\" or \"end\".\n",
    "\"\"\"\n",
    "guardrails_prompt = ChatPromptTemplate.from_messages(\n",
    "    [\n",
    "        (\n",
    "            \"system\",\n",
    "            guardrails_system,\n",
    "        ),\n",
    "        (\n",
    "            \"human\",\n",
    "            (\"{question}\"),\n",
    "        ),\n",
    "    ]\n",
    ")\n",
    "\n",
    "\n",
    "class GuardrailsOutput(BaseModel):\n",
    "    decision: Literal[\"movie\", \"end\"] = Field(\n",
    "        description=\"Decision on whether the question is related to movies\"\n",
    "    )\n",
    "\n",
    "\n",
    "guardrails_chain = guardrails_prompt | llm.with_structured_output(GuardrailsOutput)"
   ]
  },
  {
   "cell_type": "code",
   "execution_count": 11,
   "id": "d77d61ae",
   "metadata": {},
   "outputs": [],
   "source": [
    "def guardrails(state: InputState) -> OverallState:\n",
    "    \"\"\"\n",
    "    Decides if the question is related to movies or not.\n",
    "    \"\"\"\n",
    "    print(\"-- GUARDRAILS --\")\n",
    "    question = state[\"question\"]\n",
    "    guardrails_output = guardrails_chain.invoke({\"question\": question})\n",
    "    print(\"Guardrails output:\", guardrails_output)\n",
    "    \n",
    "    database_records = None\n",
    "    if guardrails_output.decision == \"end\":\n",
    "        database_records = \"This questions is not about movies or their cast. Therefore I cannot answer this question.\"\n",
    "    return {\n",
    "        \"next_action\": guardrails_output.decision,\n",
    "        \"database_records\": database_records,\n",
    "        \"steps\": [\"guardrail\"],\n",
    "    }"
   ]
  },
  {
   "cell_type": "markdown",
   "id": "0f590f3a",
   "metadata": {},
   "source": [
    "### 2) Text2Cypher 쿼리 생성 노드 추가"
   ]
  },
  {
   "cell_type": "code",
   "execution_count": 12,
   "id": "d6f95687",
   "metadata": {},
   "outputs": [],
   "source": [
    "examples = [\n",
    "    {\n",
    "        \"question\": \"How many movies has Tom Hanks acted in?\",\n",
    "        \"query\": \"MATCH (a:Person {name: 'Tom Hanks'})-[:ACTED_IN]->(m:Movie) RETURN count(m)\",\n",
    "    },\n",
    "    {\n",
    "        \"question\": \"List all the genres of the movie Schindler's List\",\n",
    "        \"query\": \"MATCH (m:Movie {title: 'Schindler's List'})-[:IN_GENRE]->(g:Genre) RETURN g.name\",\n",
    "    },\n",
    "    {\n",
    "        \"question\": \"Which actors have worked in movies from both the comedy and action genres?\",\n",
    "        \"query\": \"MATCH (a:Person)-[:ACTED_IN]->(:Movie)-[:IN_GENRE]->(g1:Genre), (a)-[:ACTED_IN]->(:Movie)-[:IN_GENRE]->(g2:Genre) WHERE g1.name = 'Comedy' AND g2.name = 'Action' RETURN DISTINCT a.name\",\n",
    "    },\n",
    "    {\n",
    "        \"question\": \"Find the actor with the highest number of movies in the database.\",\n",
    "        \"query\": \"MATCH (a:Actor)-[:ACTED_IN]->(m:Movie) RETURN a.name, COUNT(m) AS movieCount ORDER BY movieCount DESC LIMIT 1\",\n",
    "    },\n",
    "]"
   ]
  },
  {
   "cell_type": "code",
   "execution_count": 13,
   "id": "0d17e384",
   "metadata": {},
   "outputs": [],
   "source": [
    "from langchain_core.output_parsers import StrOutputParser\n",
    "\n",
    "text2cypher_prompt = ChatPromptTemplate.from_messages(\n",
    "    [\n",
    "        (\n",
    "            \"system\",\n",
    "            (\n",
    "                \"Given an input question, convert it to a Cypher query. No pre-amble.\"\n",
    "                \"Do not wrap the response in any backticks or anything else. Respond with a Cypher statement only!\"\n",
    "            ),\n",
    "        ),\n",
    "        (\n",
    "            \"human\",\n",
    "            (\n",
    "                \"\"\"You are a Neo4j expert. Given an input question, create a syntactically correct Cypher query to run.\n",
    "                    Do not wrap the response in any backticks or anything else. Respond with a Cypher statement only!\n",
    "                    Here is the schema information\n",
    "                    {schema}\n",
    "\n",
    "                    Below are a number of examples of questions and their corresponding Cypher queries.\n",
    "\n",
    "                    {fewshot_examples}\n",
    "\n",
    "                    User input: {question}\n",
    "                    Cypher query:\n",
    "                \"\"\"\n",
    "            ),\n",
    "        ),\n",
    "    ]\n",
    ")\n",
    "\n",
    "text2cypher_chain = text2cypher_prompt | llm | StrOutputParser()\n",
    "\n",
    "\n",
    "def generate_cypher(state: OverallState) -> OverallState:\n",
    "    \"\"\"\n",
    "    Generates a cypher statement based on the provided schema and user input\n",
    "    \"\"\"\n",
    "    print(\"-- GENERATE CYPHER --\")\n",
    "\n",
    "    question = state[\"question\"]\n",
    "    fewshot_examples = str(examples)\n",
    "    schema = get_schema()\n",
    "\n",
    "    generated_cypher = text2cypher_chain.invoke(\n",
    "        {\n",
    "            \"question\": question,\n",
    "            \"fewshot_examples\": fewshot_examples,\n",
    "            \"schema\": schema,\n",
    "        }\n",
    "    )\n",
    "    print(\"Generated Cypher:\", generated_cypher)\n",
    "    return {\"cypher_statement\": generated_cypher, \"steps\": [\"generate_cypher\"]}"
   ]
  },
  {
   "cell_type": "markdown",
   "id": "0456c003",
   "metadata": {},
   "source": [
    "### 3) 쿼리 문법 검사 노드 추가"
   ]
  },
  {
   "cell_type": "code",
   "execution_count": 14,
   "id": "6b58856e",
   "metadata": {},
   "outputs": [],
   "source": [
    "from typing import List, Optional\n",
    "\n",
    "validate_cypher_system = \"\"\"\n",
    "You are a Cypher expert reviewing a statement written by a junior developer.\n",
    "\"\"\"\n",
    "\n",
    "validate_cypher_user = \"\"\"You must check the following:\n",
    "* Are there any syntax errors in the Cypher statement?\n",
    "* Are there any missing or undefined variables in the Cypher statement?\n",
    "* Are any node labels missing from the schema?\n",
    "* Are any relationship types missing from the schema?\n",
    "* Are any of the properties not included in the schema?\n",
    "* Does the Cypher statement include enough information to answer the question?\n",
    "\n",
    "Examples of good errors:\n",
    "* Label (:Foo) does not exist, did you mean (:Bar)?\n",
    "* Property bar does not exist for label Foo, did you mean baz?\n",
    "* Relationship FOO does not exist, did you mean FOO_BAR?\n",
    "\n",
    "Schema:\n",
    "{schema}\n",
    "\n",
    "The question is:\n",
    "{question}\n",
    "\n",
    "The Cypher statement is:\n",
    "{cypher}\n",
    "\n",
    "Make sure you don't make any mistakes!\"\"\"\n",
    "\n",
    "validate_cypher_prompt = ChatPromptTemplate.from_messages(\n",
    "    [\n",
    "        (\n",
    "            \"system\",\n",
    "            validate_cypher_system,\n",
    "        ),\n",
    "        (\n",
    "            \"human\",\n",
    "            (validate_cypher_user),\n",
    "        ),\n",
    "    ]\n",
    ")\n",
    "\n",
    "class ValidateCypherOutput(BaseModel):\n",
    "    \"\"\"\n",
    "    Represents the validation result of a Cypher query's output, including any errors.\n",
    "    \"\"\"\n",
    "\n",
    "    errors: Optional[List[str]] = Field(\n",
    "        description=\"A list of syntax or semantical errors in the Cypher statement. Always explain the discrepancy between schema and Cypher statement\"\n",
    "    )\n",
    "\n",
    "\n",
    "validate_cypher_chain = validate_cypher_prompt | llm.with_structured_output(ValidateCypherOutput)"
   ]
  },
  {
   "cell_type": "code",
   "execution_count": 15,
   "id": "adffef89",
   "metadata": {},
   "outputs": [],
   "source": [
    "from neo4j.exceptions import CypherSyntaxError\n",
    "\n",
    "\n",
    "def validate_cypher(state: OverallState) -> OverallState:\n",
    "    \"\"\"\n",
    "    Validates the Cypher statements and maps any property values to the database.\n",
    "    \"\"\"\n",
    "    print(\"-- VALIDATE CYPHER --\")\n",
    "    errors = []\n",
    "    \n",
    "    cypher = state[\"cypher_statement\"]\n",
    "    try:\n",
    "        driver.execute_query(f\"EXPLAIN {cypher}\")\n",
    "    except CypherSyntaxError as e:\n",
    "        errors.append(e.message)\n",
    "        print(\"syntax error:\", e.message)\n",
    "\n",
    "    question = state[\"question\"]\n",
    "    llm_output = validate_cypher_chain.invoke(\n",
    "        {\n",
    "            \"question\": question,\n",
    "            \"schema\": schema,\n",
    "            \"cypher\": cypher,\n",
    "        }\n",
    "    )\n",
    "    if llm_output.errors:\n",
    "        errors.extend(llm_output.errors)\n",
    "    print(\"LLM output errors:\", llm_output.errors)\n",
    "        \n",
    "    if errors:\n",
    "        next_action = \"correct_cypher\"\n",
    "    else:\n",
    "        next_action = \"execute_cypher\"\n",
    "\n",
    "    return {\n",
    "        \"next_action\": next_action,\n",
    "        \"cypher_statement\": cypher,\n",
    "        \"cypher_errors\": errors,\n",
    "        \"steps\": [\"validate_cypher\"],\n",
    "    }"
   ]
  },
  {
   "cell_type": "markdown",
   "id": "03e43134",
   "metadata": {},
   "source": [
    "### 4) 쿼리 수정 노드 추가"
   ]
  },
  {
   "cell_type": "code",
   "execution_count": 16,
   "id": "afe774c4",
   "metadata": {},
   "outputs": [],
   "source": [
    "correct_cypher_prompt = ChatPromptTemplate.from_messages(\n",
    "    [\n",
    "        (\n",
    "            \"system\",\n",
    "            (\n",
    "                \"You are a Cypher expert reviewing a statement written by a junior developer. \"\n",
    "                \"You need to correct the Cypher statement based on the provided errors. No pre-amble.\"\n",
    "                \"Do not wrap the response in any backticks or anything else. Respond with a Cypher statement only!\"\n",
    "            ),\n",
    "        ),\n",
    "        (\n",
    "            \"human\",\n",
    "            (\n",
    "                \"\"\"Check for invalid syntax or semantics and return a corrected Cypher statement.\n",
    "\n",
    "                Schema:\n",
    "                {schema}\n",
    "\n",
    "                Note: Do not include any explanations or apologies in your responses.\n",
    "                Do not wrap the response in any backticks or anything else.\n",
    "                Respond with a Cypher statement only!\n",
    "\n",
    "                Do not respond to any questions that might ask anything else than for you to construct a Cypher statement.\n",
    "\n",
    "                The question is:\n",
    "                {question}\n",
    "\n",
    "                The Cypher statement is:\n",
    "                {cypher}\n",
    "\n",
    "                The errors are:\n",
    "                {errors}\n",
    "\n",
    "                Corrected Cypher statement: \"\"\"\n",
    "            ),\n",
    "        ),\n",
    "    ]\n",
    ")\n",
    "\n",
    "correct_cypher_chain = correct_cypher_prompt | llm | StrOutputParser()\n",
    "\n",
    "\n",
    "def correct_cypher(state: OverallState) -> OverallState:\n",
    "    \"\"\"\n",
    "    Correct the Cypher statement based on the provided errors.\n",
    "    \"\"\"\n",
    "    print(\"-- CORRECT CYPHER --\")\n",
    "    question = state[\"question\"]\n",
    "    errors = state[\"cypher_errors\"]\n",
    "    cypher = state[\"cypher_statement\"]\n",
    "\n",
    "    corrected_cypher = correct_cypher_chain.invoke(\n",
    "        {\n",
    "            \"question\": question,\n",
    "            \"errors\": errors,  \n",
    "            \"cypher\": cypher,\n",
    "            \"schema\": schema,\n",
    "        }\n",
    "    )\n",
    "    print(\"Corrected Cypher statement:\", corrected_cypher)\n",
    "\n",
    "    return {\n",
    "        \"next_action\": \"validate_cypher\",\n",
    "        \"cypher_statement\": corrected_cypher,\n",
    "        \"steps\": [\"correct_cypher\"],\n",
    "    }"
   ]
  },
  {
   "cell_type": "markdown",
   "id": "db924277",
   "metadata": {},
   "source": [
    "### 5) DB 검색 노드(쿼리 실행) 추가"
   ]
  },
  {
   "cell_type": "code",
   "execution_count": 17,
   "id": "07d91197",
   "metadata": {},
   "outputs": [],
   "source": [
    "no_results = \"I couldn't find any relevant information in the database\"\n",
    "\n",
    "def execute_cypher(state: OverallState) -> OverallState:\n",
    "    \"\"\"\n",
    "    Executes the given Cypher statement.\n",
    "    \"\"\"\n",
    "    print(\"-- EXECUTE CYPHER --\")\n",
    "    cypher_statement = state[\"cypher_statement\"]\n",
    "    try:\n",
    "        with driver.session(database=\"neo4j\") as session:\n",
    "            records = session.execute_read(\n",
    "                lambda tx: tx.run(cypher_statement).data())\n",
    "\n",
    "    except Exception as e:\n",
    "            records = str(e)\n",
    "\n",
    "    print(\"Cypher execution result:\", records)\n",
    "    return {\n",
    "        \"database_records\": records if records else no_results,\n",
    "        \"next_action\": \"end\",\n",
    "        \"steps\": [\"execute_cypher\"],\n",
    "    }"
   ]
  },
  {
   "cell_type": "markdown",
   "id": "81b8999b",
   "metadata": {},
   "source": [
    "### 6) 조회 결과의 관련성 평가 노드"
   ]
  },
  {
   "cell_type": "code",
   "execution_count": 18,
   "id": "6bb64077",
   "metadata": {},
   "outputs": [],
   "source": [
    "context_relevance_prompt = ChatPromptTemplate.from_messages(\n",
    "    [\n",
    "        (\n",
    "            \"system\",\n",
    "            (\n",
    "                \"You are an expert assistant trained to judge whether a set of database query results \"\n",
    "                \"provides sufficient information to answer a user's natural language question. \"\n",
    "                \"You must make a binary decision: either the results contain enough information to fully answer the question, \"\n",
    "                \"or they do not. Your judgment should be based strictly on the content provided in the results.\"\n",
    "            ),\n",
    "        ),\n",
    "        (\n",
    "            \"human\",\n",
    "            (\n",
    "                \"\"\"Given the user question and the query results from a database,\n",
    "                determine whether the results contain enough information to answer the question.\n",
    "\n",
    "                Return your response with two fields:\n",
    "                score: 'yes' if sufficient, 'no' if not\n",
    "                    - If the results fully answer the question, respond only with \"yes\".\n",
    "                    - If the results do not provide enough context or are incomplete, respond only with \"no\".\n",
    "                feedback: a brief explanation of why the results are or are not sufficient\n",
    "\n",
    "                Question:\n",
    "                {question}\n",
    "\n",
    "                Results:\n",
    "                {results}\n",
    "                \"\"\"\n",
    "            ),\n",
    "        ),\n",
    "    ]\n",
    ")\n",
    "\n",
    "class RelevaceScore(BaseModel):\n",
    "    score: str = Field(description=\"Relevance score 'yes' or 'no'\")\n",
    "    feedback: str = Field(\n",
    "        description=\"Feedback on the relevance of the results to the question\"\n",
    "    )\n",
    "\n",
    "\n",
    "context_relevance_chain = context_relevance_prompt | llm.with_structured_output(RelevaceScore)"
   ]
  },
  {
   "cell_type": "code",
   "execution_count": 19,
   "id": "886b14d6",
   "metadata": {},
   "outputs": [],
   "source": [
    "def relevance(state: OverallState) -> OverallState:\n",
    "    \"\"\"\n",
    "    Decides if the question is related to movies or not.\n",
    "    \"\"\"\n",
    "    print(\"-- GRADE RELEVANCE --\")\n",
    "    question = state[\"question\"]\n",
    "    print(state[\"database_records\"])\n",
    "    relevance_score = context_relevance_chain.invoke({\"question\": question, \"results\": state[\"database_records\"]})\n",
    "    print(\"relevance score: \", relevance_score.score)\n",
    "    \n",
    "    if relevance_score.score == \"yes\":\n",
    "        return {\n",
    "        \"next_action\": \"generate_final_answer\",\n",
    "        \"database_records\": state[\"database_records\"],\n",
    "        \"cypher_errors\" : relevance_score.feedback,\n",
    "        \"steps\": [\"relevance\"],\n",
    "    }\n",
    "    else:\n",
    "        return {\n",
    "            \"next_action\": \"correct_cypher\",\n",
    "            \"database_records\": state[\"database_records\"],\n",
    "            \"cypher_errors\" : relevance_score.feedback,\n",
    "            \"steps\": [\"relevance\"],\n",
    "        }"
   ]
  },
  {
   "cell_type": "markdown",
   "id": "fd4aed89",
   "metadata": {},
   "source": [
    "### 7) 답변 생성 노드"
   ]
  },
  {
   "cell_type": "code",
   "execution_count": 20,
   "id": "a0d93e5d",
   "metadata": {},
   "outputs": [],
   "source": [
    "generate_final_prompt = ChatPromptTemplate.from_messages(\n",
    "    [\n",
    "        (\n",
    "            \"system\",\n",
    "            \"You are a helpful assistant\",\n",
    "        ),\n",
    "        (\n",
    "            \"human\",\n",
    "            (\n",
    "                \"\"\"Use the following results retrieved from a database to provide\n",
    "                a succinct, definitive answer to the user's question.\n",
    "\n",
    "                Respond as if you are answering the question directly.\n",
    "\n",
    "                Results: {results}\n",
    "                Question: {question}\"\"\"\n",
    "            ),\n",
    "        ),\n",
    "    ]\n",
    ")\n",
    "\n",
    "generate_final_chain = generate_final_prompt | llm | StrOutputParser()\n",
    "\n",
    "\n",
    "def generate_final_answer(state: OverallState) -> OutputState:\n",
    "    \"\"\"\n",
    "    Decides if the question is related to movies.\n",
    "    \"\"\"\n",
    "    print(\"-- GENERATE FINAL ANSWER --\")\n",
    "    question = state[\"question\"]\n",
    "    results = state[\"database_records\"]\n",
    "    print(\"Question:\", question)\n",
    "    print(\"Results to generate final answer from:\", results)\n",
    "    final_answer = generate_final_chain.invoke(\n",
    "        {\"question\": question, \"results\": results}\n",
    "    )\n",
    "    print(\"Final answer:\", final_answer)\n",
    "    return {\"answer\": final_answer, \"steps\": [\"generate_final_answer\"]}"
   ]
  },
  {
   "cell_type": "markdown",
   "id": "7208cd76",
   "metadata": {},
   "source": [
    "### 8) 조건부 엣지 추가"
   ]
  },
  {
   "cell_type": "code",
   "execution_count": 21,
   "id": "270abe33",
   "metadata": {},
   "outputs": [],
   "source": [
    "def guardrails_condition(\n",
    "    state: OverallState,\n",
    ") -> Literal[\"generate_cypher\", \"generate_final_answer\"]:\n",
    "    next_action = state[\"next_action\"]\n",
    "    if next_action == \"end\":\n",
    "        return \"generate_final_answer\"\n",
    "    elif next_action == \"movie\":\n",
    "        return \"generate_cypher\"\n",
    "\n",
    "\n",
    "def validate_cypher_condition(\n",
    "    state: OverallState,\n",
    ") -> Literal[\"correct_cypher\", \"execute_cypher\"]:\n",
    "    next_action = state[\"next_action\"]\n",
    "    if next_action == \"correct_cypher\":\n",
    "        return \"correct_cypher\"\n",
    "    elif next_action == \"execute_cypher\":\n",
    "        return \"execute_cypher\"\n",
    "    \n",
    "def relevance_cypher_condition(\n",
    "    state: OverallState,\n",
    ") -> Literal[\"generate_final_answer\", \"correct_cypher\"]:\n",
    "    next_action = state[\"next_action\"]\n",
    "    if next_action == \"generate_final_answer\":\n",
    "        return \"generate_final_answer\"\n",
    "    elif next_action == \"correct_cypher\":\n",
    "        return \"correct_cypher\""
   ]
  },
  {
   "cell_type": "markdown",
   "id": "56bb65c8",
   "metadata": {},
   "source": [
    "### Graph Compile!"
   ]
  },
  {
   "cell_type": "code",
   "execution_count": 22,
   "metadata": {},
   "outputs": [],
   "source": [
    "from langgraph.graph import END, START, StateGraph\n",
    "\n",
    "graph_builder = StateGraph(OverallState, input=InputState, output=OutputState)\n",
    "graph_builder.add_node(guardrails)\n",
    "graph_builder.add_node(generate_cypher)\n",
    "graph_builder.add_node(validate_cypher)\n",
    "graph_builder.add_node(correct_cypher)\n",
    "graph_builder.add_node(execute_cypher)\n",
    "graph_builder.add_node(relevance)\n",
    "graph_builder.add_node(generate_final_answer)\n",
    "\n",
    "graph_builder.add_edge(START, \"guardrails\")\n",
    "graph_builder.add_conditional_edges(\n",
    "    \"guardrails\",\n",
    "    guardrails_condition,\n",
    ")\n",
    "graph_builder.add_edge(\"generate_cypher\", \"validate_cypher\")\n",
    "graph_builder.add_conditional_edges(\n",
    "    \"validate_cypher\",\n",
    "    validate_cypher_condition,\n",
    ")\n",
    "\n",
    "graph_builder.add_edge(\"execute_cypher\", \"relevance\")\n",
    "graph_builder.add_conditional_edges(\n",
    "    \"relevance\",\n",
    "    relevance_cypher_condition,\n",
    ")\n",
    "\n",
    "graph_builder.add_edge(\"correct_cypher\", \"validate_cypher\")\n",
    "graph_builder.add_edge(\"generate_final_answer\", END)\n",
    "\n",
    "graph = graph_builder.compile()"
   ]
  },
  {
   "cell_type": "code",
   "execution_count": 23,
   "id": "da0581eb",
   "metadata": {},
   "outputs": [
    {
     "data": {
      "image/png": "[encoded data removed]",
      "text/plain": [
       "<IPython.core.display.Image object>"
      ]
     },
     "metadata": {},
     "output_type": "display_data"
    }
   ],
   "source": [
    "from IPython.display import Image, display\n",
    "\n",
    "try:\n",
    "    display(Image(graph.get_graph().draw_mermaid_png()))\n",
    "except Exception:\n",
    "    pass"
   ]
  },
  {
   "cell_type": "code",
   "execution_count": null,
   "id": "18a6c1bc",
   "metadata": {},
   "outputs": [],
   "source": []
  },
  {
   "cell_type": "markdown",
   "id": "86ea1bc1",
   "metadata": {},
   "source": [
    "테스트!"
   ]
  },
  {
   "cell_type": "markdown",
   "id": "95227dd5",
   "metadata": {},
   "source": [
    "CASE 1. 일반적인 질문"
   ]
  },
  {
   "cell_type": "code",
   "execution_count": 24,
   "id": "22534141",
   "metadata": {},
   "outputs": [
    {
     "name": "stdout",
     "output_type": "stream",
     "text": [
      "-- GUARDRAILS --\n",
      "Guardrails output: decision='end'\n",
      "-- GENERATE FINAL ANSWER --\n",
      "Question: What's the weather in Spain?\n",
      "Results to generate final answer from: This questions is not about movies or their cast. Therefore I cannot answer this question.\n",
      "Final answer: I'm sorry, but I cannot provide real-time weather information. You can check a reliable weather website or app for the latest forecast in Spain.\n"
     ]
    },
    {
     "data": {
      "text/plain": [
       "{'answer': \"I'm sorry, but I cannot provide real-time weather information. You can check a reliable weather website or app for the latest forecast in Spain.\",\n",
       " 'steps': ['guardrail', 'generate_final_answer']}"
      ]
     },
     "execution_count": 24,
     "metadata": {},
     "output_type": "execute_result"
    }
   ],
   "source": [
    "graph.invoke({\"question\": \"What's the weather in Spain?\"})"
   ]
  },
  {
   "cell_type": "markdown",
   "id": "7ad32ffa",
   "metadata": {},
   "source": [
    "CASE 2. 영화 관련 질문들"
   ]
  },
  {
   "cell_type": "code",
   "execution_count": 25,
   "id": "1ab1509c",
   "metadata": {},
   "outputs": [
    {
     "name": "stdout",
     "output_type": "stream",
     "text": [
      "-- GUARDRAILS --\n",
      "Guardrails output: decision='movie'\n",
      "-- GENERATE CYPHER --\n"
     ]
    },
    {
     "name": "stderr",
     "output_type": "stream",
     "text": [
      "Received notification from DBMS server: {severity: WARNING} {code: Neo.ClientNotification.Procedure.ProcedureWarning} {category: GENERIC} {title: The query used a procedure that generated a warning.} {description: The query used a procedure that generated a warning. (The field `propertyTypes` will change output format in the next major version.)} {position: line: 2, column: 9, offset: 9} for query: '\\n        CALL db.schema.nodeTypeProperties() YIELD nodeType, propertyName, propertyTypes\\n        RETURN nodeType, propertyName, propertyTypes\\n        '\n",
      "Received notification from DBMS server: {severity: WARNING} {code: Neo.ClientNotification.Procedure.ProcedureWarning} {category: GENERIC} {title: The query used a procedure that generated a warning.} {description: The query used a procedure that generated a warning. (The field `propertyTypes` will change output format in the next major version.)} {position: line: 2, column: 9, offset: 9} for query: '\\n        CALL db.schema.relTypeProperties() YIELD relType, propertyName, propertyTypes\\n        RETURN relType, propertyName, propertyTypes\\n        '\n"
     ]
    },
    {
     "name": "stdout",
     "output_type": "stream",
     "text": [
      "Generated Cypher: MATCH (a:Actor)-[:ACTED_IN]->(m:Movie {title: 'Casino'}) RETURN a.name\n",
      "-- VALIDATE CYPHER --\n",
      "LLM output errors: None\n",
      "-- EXECUTE CYPHER --\n",
      "Cypher execution result: [{'a.name': 'Robert De Niro'}, {'a.name': 'Joe Pesci'}, {'a.name': 'Sharon Stone'}, {'a.name': 'James Woods'}]\n",
      "-- GRADE RELEVANCE --\n",
      "[{'a.name': 'Robert De Niro'}, {'a.name': 'Joe Pesci'}, {'a.name': 'Sharon Stone'}, {'a.name': 'James Woods'}]\n",
      "relevance score:  yes\n",
      "-- GENERATE FINAL ANSWER --\n",
      "Question: Casino 영화에 출연한 배우들은 누구인가요?\n",
      "Results to generate final answer from: [{'a.name': 'Robert De Niro'}, {'a.name': 'Joe Pesci'}, {'a.name': 'Sharon Stone'}, {'a.name': 'James Woods'}]\n",
      "Final answer: Casino 영화에 출연한 배우들은 Robert De Niro, Joe Pesci, Sharon Stone, James Woods입니다.\n"
     ]
    },
    {
     "data": {
      "text/plain": [
       "{'answer': 'Casino 영화에 출연한 배우들은 Robert De Niro, Joe Pesci, Sharon Stone, James Woods입니다.',\n",
       " 'steps': ['guardrail',\n",
       "  'generate_cypher',\n",
       "  'validate_cypher',\n",
       "  'execute_cypher',\n",
       "  'relevance',\n",
       "  'generate_final_answer'],\n",
       " 'cypher_statement': \"MATCH (a:Actor)-[:ACTED_IN]->(m:Movie {title: 'Casino'}) RETURN a.name\"}"
      ]
     },
     "execution_count": 25,
     "metadata": {},
     "output_type": "execute_result"
    }
   ],
   "source": [
    "graph.invoke({\"question\": \"Casino 영화에 출연한 배우들은 누구인가요?\"})"
   ]
  },
  {
   "cell_type": "code",
   "execution_count": 27,
   "id": "bcab8853",
   "metadata": {},
   "outputs": [
    {
     "name": "stdout",
     "output_type": "stream",
     "text": [
      "-- GUARDRAILS --\n",
      "Guardrails output: decision='movie'\n",
      "-- GENERATE CYPHER --\n"
     ]
    },
    {
     "name": "stderr",
     "output_type": "stream",
     "text": [
      "Received notification from DBMS server: {severity: WARNING} {code: Neo.ClientNotification.Procedure.ProcedureWarning} {category: GENERIC} {title: The query used a procedure that generated a warning.} {description: The query used a procedure that generated a warning. (The field `propertyTypes` will change output format in the next major version.)} {position: line: 2, column: 9, offset: 9} for query: '\\n        CALL db.schema.nodeTypeProperties() YIELD nodeType, propertyName, propertyTypes\\n        RETURN nodeType, propertyName, propertyTypes\\n        '\n",
      "Received notification from DBMS server: {severity: WARNING} {code: Neo.ClientNotification.Procedure.ProcedureWarning} {category: GENERIC} {title: The query used a procedure that generated a warning.} {description: The query used a procedure that generated a warning. (The field `propertyTypes` will change output format in the next major version.)} {position: line: 2, column: 9, offset: 9} for query: '\\n        CALL db.schema.relTypeProperties() YIELD relType, propertyName, propertyTypes\\n        RETURN relType, propertyName, propertyTypes\\n        '\n"
     ]
    },
    {
     "name": "stdout",
     "output_type": "stream",
     "text": [
      "Generated Cypher: MATCH (m:Movie {title: 'Toy Story'})<-[:RATED]-(u:User)\n",
      "RETURN avg(u.rating) AS averageRating\n",
      "-- VALIDATE CYPHER --\n",
      "LLM output errors: [\"Property 'rating' is not defined for the node with label 'User'. The correct property should be 'rating' for the relationship type 'RATED'. The Cypher statement should therefore extract this property from the relationship instead of the node.\", \"To answer the question correctly given the current schema, the Cypher statement should involve retrieving the 'rating' directly from the relationship 'RATED' and not the 'User' node.\"]\n",
      "-- CORRECT CYPHER --\n",
      "Corrected Cypher statement: MATCH (m:Movie {title: 'Toy Story'})<-[:RATED]-(r:RATED) RETURN avg(r.rating) AS averageRating\n",
      "-- VALIDATE CYPHER --\n"
     ]
    },
    {
     "name": "stderr",
     "output_type": "stream",
     "text": [
      "Received notification from DBMS server: {severity: WARNING} {code: Neo.ClientNotification.Statement.UnknownLabelWarning} {category: UNRECOGNIZED} {title: The provided label is not in the database.} {description: One of the labels in your query is not available in the database, make sure you didn't misspell it or that the label is available when you run this statement in your application (the missing label name is: RATED)} {position: line: 1, column: 59, offset: 58} for query: \"EXPLAIN MATCH (m:Movie {title: 'Toy Story'})<-[:RATED]-(r:RATED) RETURN avg(r.rating) AS averageRating\"\n"
     ]
    },
    {
     "name": "stdout",
     "output_type": "stream",
     "text": [
      "LLM output errors: ['Relationship FOO does not exist, did you mean RATED?', 'Property rating is missing from variable (r).']\n",
      "-- CORRECT CYPHER --\n",
      "Corrected Cypher statement: MATCH (m:Movie {title: 'Toy Story'})<-[:RATED]-(u:User) RETURN avg(r.rating) AS averageRating\n",
      "-- VALIDATE CYPHER --\n",
      "syntax error: Variable `r` not defined (line 1, column 76 (offset: 75))\n",
      "\"EXPLAIN MATCH (m:Movie {title: 'Toy Story'})<-[:RATED]-(u:User) RETURN avg(r.rating) AS averageRating\"\n",
      "                                                                            ^\n",
      "LLM output errors: [\"The variable 'r' is used in the RETURN clause but it is not defined in the MATCH clause. It seems the relationship variable should be named 'r' in the MATCH clause as well: MATCH (m:Movie {title: 'Toy Story'})<-[:RATED]-(u:User) should be MATCH (m:Movie {title: 'Toy Story'})<-[r:RATED]-(u:User).\", \"The schema specifies that the relationship type is 'RATED' and it is correctly used in the Cypher statement.\", \"The label 'Movie' and property 'title' are part of the schema and correctly used. 'User' is a correct label as well.\"]\n",
      "-- CORRECT CYPHER --\n",
      "Corrected Cypher statement: MATCH (m:Movie {title: 'Toy Story'})<-[r:RATED]-(u:User) RETURN avg(r.rating) AS averageRating\n",
      "-- VALIDATE CYPHER --\n",
      "LLM output errors: None\n",
      "-- EXECUTE CYPHER --\n",
      "Cypher execution result: [{'averageRating': 3.8724696356275294}]\n",
      "-- GRADE RELEVANCE --\n",
      "[{'averageRating': 3.8724696356275294}]\n",
      "relevance score:  yes\n",
      "-- GENERATE FINAL ANSWER --\n",
      "Question: Toy Story의 평균 평점은 얼마인가요?\n",
      "Results to generate final answer from: [{'averageRating': 3.8724696356275294}]\n",
      "Final answer: Toy Story의 평균 평점은 3.87입니다.\n"
     ]
    },
    {
     "data": {
      "text/plain": [
       "{'answer': 'Toy Story의 평균 평점은 3.87입니다.',\n",
       " 'steps': ['guardrail',\n",
       "  'generate_cypher',\n",
       "  'validate_cypher',\n",
       "  'correct_cypher',\n",
       "  'validate_cypher',\n",
       "  'correct_cypher',\n",
       "  'validate_cypher',\n",
       "  'correct_cypher',\n",
       "  'validate_cypher',\n",
       "  'execute_cypher',\n",
       "  'relevance',\n",
       "  'generate_final_answer'],\n",
       " 'cypher_statement': \"MATCH (m:Movie {title: 'Toy Story'})<-[r:RATED]-(u:User) RETURN avg(r.rating) AS averageRating\"}"
      ]
     },
     "execution_count": 27,
     "metadata": {},
     "output_type": "execute_result"
    }
   ],
   "source": [
    "graph.invoke({\"question\": \"Toy Story의 평균 평점은 얼마인가요?\"})"
   ]
  },
  {
   "cell_type": "code",
   "execution_count": null,
   "id": "d0f77a2e",
   "metadata": {},
   "outputs": [],
   "source": []
  }
 ],
 "metadata": {
  "kernelspec": {
   "display_name": "Python 3",
   "language": "python",
   "name": "python3"
  },
  "language_info": {
   "codemirror_mode": {
    "name": "ipython",
    "version": 3
   },
   "file_extension": ".py",
   "mimetype": "text/x-python",
   "name": "python",
   "nbconvert_exporter": "python",
   "pygments_lexer": "ipython3",
   "version": "3.11.11"
  }
 },
 "nbformat": 4,
 "nbformat_minor": 5
}
